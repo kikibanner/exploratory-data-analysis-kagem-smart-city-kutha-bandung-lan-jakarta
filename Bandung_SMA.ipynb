{
 "cells": [
  {
   "cell_type": "code",
   "execution_count": 1,
   "metadata": {},
   "outputs": [],
   "source": [
    "import pandas as pd\n",
    "import matplotlib.pyplot as plt\n",
    "#from functools import reduce\n",
    "import numpy as np"
   ]
  },
  {
   "cell_type": "code",
   "execution_count": 22,
   "metadata": {},
   "outputs": [],
   "source": [
    "#Kecamatan andir\n",
    "andir1 = pd.read_csv('dataset_bandung/sma/andir1.csv').rename(columns={\"Rombel\":\"Rombongan Belajar\",\"R. Kelas\": \"Kelas\", \"R. Lab\": \"Lab\", \"R. Perpus\": \"Perpus\"})\n",
    "andir2 = pd.read_csv('dataset_bandung/sma/andir2.csv').rename(columns={\"Rombel\":\"Rombongan Belajar\",\"R. Kelas\": \"Kelas\", \"R. Lab\": \"Lab\", \"R. Perpus\": \"Perpus\"})\n",
    "andir3 = pd.read_csv('dataset_bandung/sma/andir3.csv').rename(columns={\"R. Kelas\": \"Kelas\", \"R. Lab\": \"Lab\", \"R. Perpus\": \"Perpus\"})\n",
    "andir4 = pd.read_csv('dataset_bandung/sma/andir4.csv').rename(columns={\"R. Kelas\": \"Kelas\", \"R. Lab\": \"Lab\", \"R. Perpus\": \"Perpus\"})\n",
    "\n",
    "#concat data\n",
    "andirc1= andir1[['Guru','Peserta Didik','Rombongan Belajar','Pegawai','Kelas','Lab','Perpus']]\n",
    "andirc2= andir2[['Guru','Peserta Didik','Rombongan Belajar','Pegawai','Kelas','Lab','Perpus']]\n",
    "andirc3= andir3[['Guru','Peserta Didik','Rombongan Belajar','Pegawai','Kelas','Lab','Perpus']]\n",
    "andirc4= andir4[['Guru','Peserta Didik','Rombongan Belajar','Pegawai','Kelas','Lab','Perpus']]\n",
    "\n",
    "andirs=[andirc2,andirc3,andirc3,andirc4]\n",
    "\n",
    "andir_final=pd.concat(andirs,ignore_index=True)\n",
    "#andir_final "
   ]
  },
  {
   "cell_type": "code",
   "execution_count": 27,
   "metadata": {},
   "outputs": [],
   "source": [
    "#Kecamatan antapani\n",
    "antapani1 = pd.read_csv('dataset_bandung/sma/antapani1.csv').rename(columns={\"Rombel\":\"Rombongan Belajar\",\"R. Kelas\": \"Kelas\", \"R. Lab\": \"Lab\", \"R. Perpus\": \"Perpus\"})\n",
    "antapani2 = pd.read_csv('dataset_bandung/sma/antapani2.csv').rename(columns={\"Rombel\":\"Rombongan Belajar\",\"R. Kelas\": \"Kelas\", \"R. Lab\": \"Lab\", \"R. Perpus\": \"Perpus\"})\n",
    "antapani3 = pd.read_csv('dataset_bandung/sma/antapani3.csv').rename(columns={\"R. Kelas\": \"Kelas\", \"R. Lab\": \"Lab\", \"R. Perpus\": \"Perpus\"})\n",
    "antapani4 = pd.read_csv('dataset_bandung/sma/antapani4.csv').rename(columns={\"R. Kelas\": \"Kelas\", \"R. Lab\": \"Lab\", \"R. Perpus\": \"Perpus\"})\n",
    "\n",
    "#concat data\n",
    "antapanic1= antapani1[['Guru','Peserta Didik','Rombongan Belajar','Pegawai','Kelas','Lab','Perpus']]\n",
    "antapanic2= antapani2[['Guru','Peserta Didik','Rombongan Belajar','Pegawai','Kelas','Lab','Perpus']]\n",
    "antapanic3= antapani3[['Guru','Peserta Didik','Rombongan Belajar','Pegawai','Kelas','Lab','Perpus']]\n",
    "antapanic4= antapani4[['Guru','Peserta Didik','Rombongan Belajar','Pegawai','Kelas','Lab','Perpus']]\n",
    "\n",
    "antapanis=[antapanic2,antapanic3,antapanic3,antapanic4]\n",
    "\n",
    "antapani_final=pd.concat(antapanis,ignore_index=True)\n",
    "#antapani_final "
   ]
  },
  {
   "cell_type": "code",
   "execution_count": 47,
   "metadata": {},
   "outputs": [],
   "source": [
    "#Kecamatan arcamanik\n",
    "arcamanik1 = pd.read_csv('dataset_bandung/sma/arcamanik1.csv').rename(columns={\"Rombel\":\"Rombongan Belajar\",\"R. Kelas\": \"Kelas\", \"R. Lab\": \"Lab\", \"R. Perpus\": \"Perpus\"})\n",
    "arcamanik2 = pd.read_csv('dataset_bandung/sma/arcamanik2.csv').rename(columns={\"Peserta Didik \": \"Peserta Didik\",\"Rombel\":\"Rombongan Belajar\",\"R. Kelas\": \"Kelas\", \"R. Lab\": \"Lab\", \"R. Perpus\": \"Perpus\"})\n",
    "arcamanik3 = pd.read_csv('dataset_bandung/sma/arcamanik3.csv').rename(columns={\"R. Kelas\": \"Kelas\", \"R. Lab\": \"Lab\", \"R. Perpus\": \"Perpus\"})\n",
    "arcamanik4 = pd.read_csv('dataset_bandung/sma/arcamanik4.csv').rename(columns={\"R. Kelas\": \"Kelas\", \"R. Lab\": \"Lab\", \"R. Perpus\": \"Perpus\"})\n",
    "\n",
    "#concat data\n",
    "arcamanikc1= arcamanik1[['Guru','Peserta Didik','Rombongan Belajar','Pegawai','Kelas','Lab','Perpus']]\n",
    "arcamanikc2= arcamanik2[['Guru','Peserta Didik','Rombongan Belajar','Pegawai','Kelas','Lab','Perpus']]\n",
    "arcamanikc3= arcamanik3[['Guru','Peserta Didik','Rombongan Belajar','Pegawai','Kelas','Lab','Perpus']]\n",
    "arcamanikc4= arcamanik4[['Guru','Peserta Didik','Rombongan Belajar','Pegawai','Kelas','Lab','Perpus']]\n",
    "\n",
    "arcamaniks=[arcamanikc2,arcamanikc3,arcamanikc3,arcamanikc4]\n",
    "\n",
    "arcamanik_final=pd.concat(arcamaniks,ignore_index=True)\n",
    "#arcamanik_final "
   ]
  },
  {
   "cell_type": "code",
   "execution_count": 51,
   "metadata": {},
   "outputs": [],
   "source": [
    "#Kecamatan astanaanyar\n",
    "astanaanyar1 = pd.read_csv('dataset_bandung/sma/astanaanyar1.csv').rename(columns={\"Rombel\":\"Rombongan Belajar\",\"R. Kelas\": \"Kelas\", \"R. Lab\": \"Lab\", \"R. Perpus\": \"Perpus\"})\n",
    "astanaanyar2 = pd.read_csv('dataset_bandung/sma/astanaanyar2.csv').rename(columns={\"Peserta Didik \": \"Peserta Didik\",\"Rombel\":\"Rombongan Belajar\",\"R. Kelas\": \"Kelas\", \"R. Lab\": \"Lab\", \"R. Perpus\": \"Perpus\"})\n",
    "astanaanyar3 = pd.read_csv('dataset_bandung/sma/astanaanyar3.csv').rename(columns={\"R. Kelas\": \"Kelas\", \"R. Lab\": \"Lab\", \"R. Perpus\": \"Perpus\"})\n",
    "astanaanyar4 = pd.read_csv('dataset_bandung/sma/astanaanyar4.csv').rename(columns={\"R. Kelas\": \"Kelas\", \"R. Lab\": \"Lab\", \"R. Perpus\": \"Perpus\"})\n",
    "\n",
    "#concat data\n",
    "astanaanyarc1= astanaanyar1[['Guru','Peserta Didik','Rombongan Belajar','Pegawai','Kelas','Lab','Perpus']]\n",
    "astanaanyarc2= astanaanyar2[['Guru','Peserta Didik','Rombongan Belajar','Pegawai','Kelas','Lab','Perpus']]\n",
    "astanaanyarc3= astanaanyar3[['Guru','Peserta Didik','Rombongan Belajar','Pegawai','Kelas','Lab','Perpus']]\n",
    "astanaanyarc4= astanaanyar4[['Guru','Peserta Didik','Rombongan Belajar','Pegawai','Kelas','Lab','Perpus']]\n",
    "\n",
    "astanaanyars=[astanaanyarc2,astanaanyarc3,astanaanyarc3,astanaanyarc4]\n",
    "\n",
    "astanaanyar_final=pd.concat(astanaanyars,ignore_index=True)\n",
    "#astanaanyar_final "
   ]
  },
  {
   "cell_type": "code",
   "execution_count": 61,
   "metadata": {},
   "outputs": [],
   "source": [
    "#Kecamatan batununggal\n",
    "batununggal1 = pd.read_csv('dataset_bandung/sma/batununggal1.csv').rename(columns={\"Rombel\":\"Rombongan Belajar\",\"R. Kelas\": \"Kelas\", \"R. Lab\": \"Lab\", \"R. Perpus\": \"Perpus\"})\n",
    "batununggal2 = pd.read_csv('dataset_bandung/sma/batununggal2.csv').rename(columns={\"Peserta Didik \": \"Peserta Didik\",\"Rombel\":\"Rombongan Belajar\",\"R. Kelas\": \"Kelas\", \"R. Lab\": \"Lab\", \"R. Perpus\": \"Perpus\"})\n",
    "batununggal3 = pd.read_csv('dataset_bandung/sma/batununggal3.csv').rename(columns={\"R. Kelas\": \"Kelas\", \"R. Lab\": \"Lab\", \"R. Perpus\": \"Perpus\"})\n",
    "batununggal4 = pd.read_csv('dataset_bandung/sma/batununggal4.csv').rename(columns={\"Rombel\":\"Rombongan Belajar\",\"R. Kelas\": \"Kelas\", \"R. Lab\": \"Lab\", \"R. Perpus\": \"Perpus\"})\n",
    "\n",
    "#concat data\n",
    "batununggalc1= batununggal1[['Guru','Peserta Didik','Rombongan Belajar','Pegawai','Kelas','Lab','Perpus']]\n",
    "batununggalc2= batununggal2[['Guru','Peserta Didik','Rombongan Belajar','Pegawai','Kelas','Lab','Perpus']]\n",
    "batununggalc3= batununggal3[['Guru','Peserta Didik','Rombongan Belajar','Pegawai','Kelas','Lab','Perpus']]\n",
    "batununggalc4= batununggal4[['Guru','Peserta Didik','Rombongan Belajar','Pegawai','Kelas','Lab','Perpus']]\n",
    "\n",
    "batununggals=[batununggalc2,batununggalc3,batununggalc3,batununggalc4]\n",
    "\n",
    "batununggal_final=pd.concat(batununggals,ignore_index=True)\n",
    "#batununggal_final "
   ]
  },
  {
   "cell_type": "code",
   "execution_count": 75,
   "metadata": {},
   "outputs": [],
   "source": [
    "#Kecamatan bkidul\n",
    "bkidul1 = pd.read_csv('dataset_bandung/sma/bkidul1.csv').rename(columns={\"Peserta Daerah\":\"Peserta Didik\",\"Rombel\":\"Rombongan Belajar\",\"R. Kelas\": \"Kelas\", \"R. Lab\": \"Lab\", \"R. Perpus\": \"Perpus\"})\n",
    "bkidul2 = pd.read_csv('dataset_bandung/sma/bkidul2.csv').rename(columns={\"Rombel\":\"Rombongan Belajar\",\"R. Kelas\": \"Kelas\", \"R. Lab\": \"Lab\", \"R. Perpus\": \"Perpus\"})\n",
    "bkidul3 = pd.read_csv('dataset_bandung/sma/bkidul3.csv').rename(columns={\"R. Kelas\": \"Kelas\", \"R. Lab\": \"Lab\", \"R. Perpus\": \"Perpus\"})\n",
    "bkidul4 = pd.read_csv('dataset_bandung/sma/bkidul4.csv').rename(columns={\"Rombel\":\"Rombongan Belajar\",\"R. Kelas\": \"Kelas\", \"R. Lab\": \"Lab\", \"R. Perpus\": \"Perpus\"})\n",
    "\n",
    "#concat data\n",
    "bkidulc1= bkidul1[['Guru','Peserta Didik','Rombongan Belajar','Pegawai','Kelas','Lab','Perpus']]\n",
    "bkidulc2= bkidul2[['Guru','Peserta Didik','Rombongan Belajar','Pegawai','Kelas','Lab','Perpus']]\n",
    "bkidulc3= bkidul3[['Guru','Peserta Didik','Rombongan Belajar','Pegawai','Kelas','Lab','Perpus']]\n",
    "bkidulc4= bkidul4[['Guru','Peserta Didik','Rombongan Belajar','Pegawai','Kelas','Lab','Perpus']]\n",
    "\n",
    "bkiduls=[bkidulc2,bkidulc3,bkidulc3,bkidulc4]\n",
    "\n",
    "bkidul_final=pd.concat(bkiduls,ignore_index=True)\n",
    "#bkidul_final "
   ]
  },
  {
   "cell_type": "code",
   "execution_count": 78,
   "metadata": {},
   "outputs": [],
   "source": [
    "#Kecamatan bkulon\n",
    "bkulon1 = pd.read_csv('dataset_bandung/sma/bkulon1.csv').rename(columns={\"Peserta Daerah\":\"Peserta Didik\",\"Rombel\":\"Rombongan Belajar\",\"R. Kelas\": \"Kelas\", \"R. Lab\": \"Lab\", \"R. Perpus\": \"Perpus\"})\n",
    "bkulon2 = pd.read_csv('dataset_bandung/sma/bkulon2.csv').rename(columns={\"Rombel\":\"Rombongan Belajar\",\"R. Kelas\": \"Kelas\", \"R. Lab\": \"Lab\", \"R. Perpus\": \"Perpus\"})\n",
    "bkulon3 = pd.read_csv('dataset_bandung/sma/bkulon3.csv').rename(columns={\"R. Kelas\": \"Kelas\", \"R. Lab\": \"Lab\", \"R. Perpus\": \"Perpus\"})\n",
    "bkulon4 = pd.read_csv('dataset_bandung/sma/bkulon4.csv').rename(columns={\"Rombel\":\"Rombongan Belajar\",\"R. Kelas\": \"Kelas\", \"R. Lab\": \"Lab\", \"R. Perpus\": \"Perpus\"})\n",
    "\n",
    "#concat data\n",
    "bkulonc1= bkulon1[['Guru','Peserta Didik','Rombongan Belajar','Pegawai','Kelas','Lab','Perpus']]\n",
    "bkulonc2= bkulon2[['Guru','Peserta Didik','Rombongan Belajar','Pegawai','Kelas','Lab','Perpus']]\n",
    "bkulonc3= bkulon3[['Guru','Peserta Didik','Rombongan Belajar','Pegawai','Kelas','Lab','Perpus']]\n",
    "bkulonc4= bkulon4[['Guru','Peserta Didik','Rombongan Belajar','Pegawai','Kelas','Lab','Perpus']]\n",
    "\n",
    "bkulons=[bkulonc2,bkulonc3,bkulonc3,bkulonc4]\n",
    "\n",
    "bkulon_final=pd.concat(bkulons,ignore_index=True)\n",
    "#bkulon_final "
   ]
  },
  {
   "cell_type": "code",
   "execution_count": 82,
   "metadata": {},
   "outputs": [],
   "source": [
    "#Kecamatan buahbatu\n",
    "buahbatu1 = pd.read_csv('dataset_bandung/sma/buahbatu1.csv').rename(columns={\"Peserta Daerah\":\"Peserta Didik\",\"Rombel\":\"Rombongan Belajar\",\"R. Kelas\": \"Kelas\", \"R. Lab\": \"Lab\", \"R. Perpus\": \"Perpus\"})\n",
    "buahbatu2 = pd.read_csv('dataset_bandung/sma/buahbatu2.csv').rename(columns={\"Rombel\":\"Rombongan Belajar\",\"R. Kelas\": \"Kelas\", \"R. Lab\": \"Lab\", \"R. Perpus\": \"Perpus\"})\n",
    "buahbatu3 = pd.read_csv('dataset_bandung/sma/buahbatu3.csv').rename(columns={\"R. Kelas\": \"Kelas\", \"R. Lab\": \"Lab\", \"R. Perpus\": \"Perpus\"})\n",
    "buahbatu4 = pd.read_csv('dataset_bandung/sma/buahbatu4.csv').rename(columns={\"Rombel\":\"Rombongan Belajar\",\"R. Kelas\": \"Kelas\", \"R. Lab\": \"Lab\", \"R. Perpus\": \"Perpus\"})\n",
    "\n",
    "#concat data\n",
    "buahbatuc1= buahbatu1[['Guru','Peserta Didik','Rombongan Belajar','Pegawai','Kelas','Lab','Perpus']]\n",
    "buahbatuc2= buahbatu2[['Guru','Peserta Didik','Rombongan Belajar','Pegawai','Kelas','Lab','Perpus']]\n",
    "buahbatuc3= buahbatu3[['Guru','Peserta Didik','Rombongan Belajar','Pegawai','Kelas','Lab','Perpus']]\n",
    "buahbatuc4= buahbatu4[['Guru','Peserta Didik','Rombongan Belajar','Pegawai','Kelas','Lab','Perpus']]\n",
    "\n",
    "buahbatus=[buahbatuc2,buahbatuc3,buahbatuc3,buahbatuc4]\n",
    "\n",
    "buahbatu_final=pd.concat(buahbatus,ignore_index=True)\n",
    "#buahbatu_final "
   ]
  },
  {
   "cell_type": "code",
   "execution_count": 85,
   "metadata": {},
   "outputs": [],
   "source": [
    "#Kecamatan cibeunying kaler\n",
    "cikaler1 = pd.read_csv('dataset_bandung/sma/cibeunying_kaler1.csv').rename(columns={\"Peserta Daerah\":\"Peserta Didik\",\"Rombel\":\"Rombongan Belajar\",\"R. Kelas\": \"Kelas\", \"R. Lab\": \"Lab\", \"R. Perpus\": \"Perpus\"})\n",
    "cikaler2 = pd.read_csv('dataset_bandung/sma/cibeunying_kaler2.csv').rename(columns={\"Rombel\":\"Rombongan Belajar\",\"R. Kelas\": \"Kelas\", \"R. Lab\": \"Lab\", \"R. Perpus\": \"Perpus\"})\n",
    "cikaler3 = pd.read_csv('dataset_bandung/sma/cibeunying_kaler3.csv').rename(columns={\"R. Kelas\": \"Kelas\", \"R. Lab\": \"Lab\", \"R. Perpus\": \"Perpus\"})\n",
    "cikaler4 = pd.read_csv('dataset_bandung/sma/cibeunying_kaler4.csv').rename(columns={\"Rombel\":\"Rombongan Belajar\",\"R. Kelas\": \"Kelas\", \"R. Lab\": \"Lab\", \"R. Perpus\": \"Perpus\"})\n",
    "\n",
    "#concat data\n",
    "cikalerc1= cikaler1[['Guru','Peserta Didik','Rombongan Belajar','Pegawai','Kelas','Lab','Perpus']]\n",
    "cikalerc2= cikaler2[['Guru','Peserta Didik','Rombongan Belajar','Pegawai','Kelas','Lab','Perpus']]\n",
    "cikalerc3= cikaler3[['Guru','Peserta Didik','Rombongan Belajar','Pegawai','Kelas','Lab','Perpus']]\n",
    "cikalerc4= cikaler4[['Guru','Peserta Didik','Rombongan Belajar','Pegawai','Kelas','Lab','Perpus']]\n",
    "\n",
    "cikalers=[cikalerc2,cikalerc3,cikalerc3,cikalerc4]\n",
    "\n",
    "cikaler_final=pd.concat(cikalers,ignore_index=True)\n",
    "#cikaler_final "
   ]
  },
  {
   "cell_type": "code",
   "execution_count": 88,
   "metadata": {},
   "outputs": [],
   "source": [
    "#Kecamatan cibiru\n",
    "cibiru1 = pd.read_csv('dataset_bandung/sma/cibiru1.csv').rename(columns={\"Peserta Daerah\":\"Peserta Didik\",\"Rombel\":\"Rombongan Belajar\",\"R. Kelas\": \"Kelas\", \"R. Lab\": \"Lab\", \"R. Perpus\": \"Perpus\"})\n",
    "cibiru2 = pd.read_csv('dataset_bandung/sma/cibiru2.csv').rename(columns={\"Rombel\":\"Rombongan Belajar\",\"R. Kelas\": \"Kelas\", \"R. Lab\": \"Lab\", \"R. Perpus\": \"Perpus\"})\n",
    "cibiru3 = pd.read_csv('dataset_bandung/sma/cibiru3.csv').rename(columns={\"R. Kelas\": \"Kelas\", \"R. Lab\": \"Lab\", \"R. Perpus\": \"Perpus\"})\n",
    "cibiru4 = pd.read_csv('dataset_bandung/sma/cibiru4.csv').rename(columns={\"Rombel\":\"Rombongan Belajar\",\"R. Kelas\": \"Kelas\", \"R. Lab\": \"Lab\", \"R. Perpus\": \"Perpus\"})\n",
    "\n",
    "#concat data\n",
    "cibiruc1= cibiru1[['Guru','Peserta Didik','Rombongan Belajar','Pegawai','Kelas','Lab','Perpus']]\n",
    "cibiruc2= cibiru2[['Guru','Peserta Didik','Rombongan Belajar','Pegawai','Kelas','Lab','Perpus']]\n",
    "cibiruc3= cibiru3[['Guru','Peserta Didik','Rombongan Belajar','Pegawai','Kelas','Lab','Perpus']]\n",
    "cibiruc4= cibiru4[['Guru','Peserta Didik','Rombongan Belajar','Pegawai','Kelas','Lab','Perpus']]\n",
    "\n",
    "cibirus=[cibiruc2,cibiruc3,cibiruc3,cibiruc4]\n",
    "\n",
    "cibiru_final=pd.concat(cibirus,ignore_index=True)\n",
    "#cibiru_final "
   ]
  },
  {
   "cell_type": "code",
   "execution_count": 157,
   "metadata": {},
   "outputs": [],
   "source": [
    "#Kecamatan cicendo\n",
    "cicendo1 = pd.read_csv('dataset_bandung/sma/cicendo1.csv').rename(columns={\"Peserta Daerah\":\"Peserta Didik\",\"Rombel\":\"Rombongan Belajar\",\"R. Kelas\": \"Kelas\", \"R. Lab\": \"Lab\", \"R. Perpus\": \"Perpus\"})\n",
    "cicendo2 = pd.read_csv('dataset_bandung/sma/cicendo2.csv').rename(columns={\"Rombel\":\"Rombongan Belajar\",\"R. Kelas\": \"Kelas\", \"R. Lab\": \"Lab\", \"R. Perpus\": \"Perpus\"})\n",
    "cicendo3 = pd.read_csv('dataset_bandung/sma/cicendo3.csv').rename(columns={\"R. Kelas\": \"Kelas\", \"R. Lab\": \"Lab\", \"R. Perpus\": \"Perpus\"})\n",
    "cicendo4 = pd.read_csv('dataset_bandung/sma/cicendo4.csv').rename(columns={\"Rombel\":\"Rombongan Belajar\",\"R. Kelas\": \"Kelas\", \"R. Lab\": \"Lab\", \"R. Perpus\": \"Perpus\"})\n",
    "\n",
    "#concat data\n",
    "cicendoc1= cicendo1[['Guru','Peserta Didik','Rombongan Belajar','Pegawai','Kelas','Lab','Perpus']]\n",
    "cicendoc2= cicendo2[['Guru','Peserta Didik','Rombongan Belajar','Pegawai','Kelas','Lab','Perpus']]\n",
    "cicendoc3= cicendo3[['Guru','Peserta Didik','Rombongan Belajar','Pegawai','Kelas','Lab','Perpus']]\n",
    "cicendoc4= cicendo4[['Guru','Peserta Didik','Rombongan Belajar','Pegawai','Kelas','Lab','Perpus']]\n",
    "\n",
    "cicendos=[cicendoc2,cicendoc3,cicendoc3,cicendoc4]\n",
    "\n",
    "cicendo_final=pd.concat(cicendos,ignore_index=True)\n",
    "#cicendo_final"
   ]
  },
  {
   "cell_type": "code",
   "execution_count": 158,
   "metadata": {},
   "outputs": [],
   "source": [
    "#Kecamatan cidadap\n",
    "cidadap1 = pd.read_csv('dataset_bandung/sma/cidadap1.csv').rename(columns={\"Peserta Daerah\":\"Peserta Didik\",\"Rombel\":\"Rombongan Belajar\",\"R. Kelas\": \"Kelas\", \"R. Lab\": \"Lab\", \"R. Perpus\": \"Perpus\"})\n",
    "cidadap2 = pd.read_csv('dataset_bandung/sma/cidadap2.csv').rename(columns={\"Rombel\":\"Rombongan Belajar\",\"R. Kelas\": \"Kelas\", \"R. Lab\": \"Lab\", \"R. Perpus\": \"Perpus\"})\n",
    "cidadap3 = pd.read_csv('dataset_bandung/sma/cidadap3.csv').rename(columns={\"R. Kelas\": \"Kelas\", \"R. Lab\": \"Lab\", \"R. Perpus\": \"Perpus\"})\n",
    "cidadap4 = pd.read_csv('dataset_bandung/sma/cidadap4.csv').rename(columns={\"Rombel\":\"Rombongan Belajar\",\"R. Kelas\": \"Kelas\", \"R. Lab\": \"Lab\", \"R. Perpus\": \"Perpus\"})\n",
    "\n",
    "#concat data\n",
    "cidadapc1= cidadap1[['Guru','Peserta Didik','Rombongan Belajar','Pegawai','Kelas','Lab','Perpus']]\n",
    "cidadapc2= cidadap2[['Guru','Peserta Didik','Rombongan Belajar','Pegawai','Kelas','Lab','Perpus']]\n",
    "cidadapc3= cidadap3[['Guru','Peserta Didik','Rombongan Belajar','Pegawai','Kelas','Lab','Perpus']]\n",
    "cidadapc4= cidadap4[['Guru','Peserta Didik','Rombongan Belajar','Pegawai','Kelas','Lab','Perpus']]\n",
    "\n",
    "cidadaps=[cidadapc2,cidadapc3,cidadapc3,cidadapc4]\n",
    "\n",
    "cidadap_final=pd.concat(cidadaps,ignore_index=True)\n",
    "#cidadap_final"
   ]
  },
  {
   "cell_type": "code",
   "execution_count": 159,
   "metadata": {},
   "outputs": [],
   "source": [
    "#Kecamatan coblong\n",
    "coblong1 = pd.read_csv('dataset_bandung/sma/coblong1.csv').rename(columns={\"Peserta Daerah\":\"Peserta Didik\",\"Rombel\":\"Rombongan Belajar\",\"R. Kelas\": \"Kelas\", \"R. Lab\": \"Lab\", \"R. Perpus\": \"Perpus\"})\n",
    "coblong2 = pd.read_csv('dataset_bandung/sma/coblong2.csv').rename(columns={\"Rombel\":\"Rombongan Belajar\",\"R. Kelas\": \"Kelas\", \"R. Lab\": \"Lab\", \"R. Perpus\": \"Perpus\"})\n",
    "coblong3 = pd.read_csv('dataset_bandung/sma/coblong3.csv').rename(columns={\"R. Kelas\": \"Kelas\", \"R. Lab\": \"Lab\", \"R. Perpus\": \"Perpus\"})\n",
    "coblong4 = pd.read_csv('dataset_bandung/sma/coblong4.csv').rename(columns={\"Rombel\":\"Rombongan Belajar\",\"R. Kelas\": \"Kelas\", \"R. Lab\": \"Lab\", \"R. Perpus\": \"Perpus\"})\n",
    "\n",
    "#concat data\n",
    "coblongc1= coblong1[['Guru','Peserta Didik','Rombongan Belajar','Pegawai','Kelas','Lab','Perpus']]\n",
    "coblongc2= coblong2[['Guru','Peserta Didik','Rombongan Belajar','Pegawai','Kelas','Lab','Perpus']]\n",
    "coblongc3= coblong3[['Guru','Peserta Didik','Rombongan Belajar','Pegawai','Kelas','Lab','Perpus']]\n",
    "coblongc4= coblong4[['Guru','Peserta Didik','Rombongan Belajar','Pegawai','Kelas','Lab','Perpus']]\n",
    "\n",
    "coblongs=[coblongc2,coblongc3,coblongc3,coblongc4]\n",
    "\n",
    "coblong_final=pd.concat(coblongs,ignore_index=True)\n",
    "#coblong_final"
   ]
  },
  {
   "cell_type": "code",
   "execution_count": 116,
   "metadata": {},
   "outputs": [],
   "source": [
    "#Kecamatan gedebage\n",
    "gedebage1 = pd.read_csv('dataset_bandung/sma/gedebage1.csv').rename(columns={\"Peserta Daerah\":\"Peserta Didik\",\"Rombel\":\"Rombongan Belajar\",\"R. Kelas\": \"Kelas\", \"R. Lab\": \"Lab\", \"R. Perpus\": \"Perpus\"})\n",
    "gedebage2 = pd.read_csv('dataset_bandung/sma/gedebage2.csv').rename(columns={\"Rombel\":\"Rombongan Belajar\",\"R. Kelas\": \"Kelas\", \"R. Lab\": \"Lab\", \"R. Perpus\": \"Perpus\"})\n",
    "gedebage3 = pd.read_csv('dataset_bandung/sma/gedebage3.csv').rename(columns={\"R. Kelas\": \"Kelas\", \"R. Lab\": \"Lab\", \"R. Perpus\": \"Perpus\"})\n",
    "gedebage4 = pd.read_csv('dataset_bandung/sma/gedebage4.csv').rename(columns={\"Rombel\":\"Rombongan Belajar\",\"R. Kelas\": \"Kelas\", \"R. Lab\": \"Lab\", \"R. Perpus\": \"Perpus\"})\n",
    "\n",
    "#concat data\n",
    "gedebagec1= gedebage1[['Guru','Peserta Didik','Rombongan Belajar','Pegawai','Kelas','Lab','Perpus']]\n",
    "gedebagec3= gedebage3[['Guru','Peserta Didik','Rombongan Belajar','Pegawai','Kelas','Lab','Perpus']]\n",
    "gedebagec4= gedebage4[['Guru','Peserta Didik','Rombongan Belajar','Pegawai','Kelas','Lab','Perpus']]\n",
    "\n",
    "#handle data missing\n",
    "gedebage_sementara = [gedebagec1,gedebagec3,gedebagec4]\n",
    "gedebage_concat_sementara = pd.concat(gedebage_sementara,ignore_index=True)\n",
    "rerata_peserta_didik_gedebage = gedebage_concat_sementara['Peserta Didik'].mean()\n",
    "gedebage2['Peserta Didik'] = rerata_peserta_didik_gedebage\n",
    "\n",
    "#concat data\n",
    "gedebagec2=gedebage2[['Guru','Peserta Didik','Rombongan Belajar','Pegawai','Kelas','Lab','Perpus']]\n",
    "gedebages = [gedebagec2,gedebage_concat_sementara]\n",
    "\n",
    "gedebages=[gedebagec1,gedebagec2,gedebagec3,gedebagec4]\n",
    "\n",
    "gedebage_final=pd.concat(gedebages,ignore_index=True)\n",
    "#gedebage_final"
   ]
  },
  {
   "cell_type": "code",
   "execution_count": 160,
   "metadata": {},
   "outputs": [],
   "source": [
    "#Kecamatan kiaracondong\n",
    "kiaracondong1 = pd.read_csv('dataset_bandung/sma/kiaracondong1.csv').rename(columns={\"Peserta Daerah\":\"Peserta Didik\",\"Rombel\":\"Rombongan Belajar\",\"R. Kelas\": \"Kelas\", \"R. Lab\": \"Lab\", \"R. Perpus\": \"Perpus\"})\n",
    "kiaracondong2 = pd.read_csv('dataset_bandung/sma/kiaracondong2.csv').rename(columns={\"Rombel\":\"Rombongan Belajar\",\"R. Kelas\": \"Kelas\", \"R. Lab\": \"Lab\", \"R. Perpus\": \"Perpus\"})\n",
    "kiaracondong3 = pd.read_csv('dataset_bandung/sma/kiaracondong3.csv.csv').rename(columns={\"R. Kelas\": \"Kelas\", \"R. Lab\": \"Lab\", \"R. Perpus\": \"Perpus\"})\n",
    "kiaracondong4 = pd.read_csv('dataset_bandung/sma/kiaracondong4.csv').rename(columns={\"Rombel\":\"Rombongan Belajar\",\"R. Kelas\": \"Kelas\", \"R. Lab\": \"Lab\", \"R. Perpus\": \"Perpus\"})\n",
    "\n",
    "#concat data\n",
    "kiaracondongc1= kiaracondong1[['Guru','Peserta Didik','Rombongan Belajar','Pegawai','Kelas','Lab','Perpus']]\n",
    "kiaracondongc2= kiaracondong2[['Guru','Peserta Didik','Rombongan Belajar','Pegawai','Kelas','Lab','Perpus']]\n",
    "kiaracondongc3= kiaracondong3[['Guru','Peserta Didik','Rombongan Belajar','Pegawai','Kelas','Lab','Perpus']]\n",
    "kiaracondongc4= kiaracondong4[['Guru','Peserta Didik','Rombongan Belajar','Pegawai','Kelas','Lab','Perpus']]\n",
    "\n",
    "kiaracondongs=[kiaracondongc2,kiaracondongc3,kiaracondongc3,kiaracondongc4]\n",
    "\n",
    "kiaracondong_final=pd.concat(kiaracondongs,ignore_index=True)\n",
    "#kiaracondong_final"
   ]
  },
  {
   "cell_type": "code",
   "execution_count": 126,
   "metadata": {},
   "outputs": [],
   "source": [
    "#Kecamatan lengkong\n",
    "lengkong1 = pd.read_csv('dataset_bandung/sma/lengkong.csv').rename(columns={\"Peserta Daerah\":\"Peserta Didik\",\"Rombel\":\"Rombongan Belajar\",\"R. Kelas\": \"Kelas\", \"R. Lab\": \"Lab\", \"R. Perpus\": \"Perpus\"})\n",
    "lengkong2 = pd.read_csv('dataset_bandung/sma/lengkong2.csv').rename(columns={\"Rombel\":\"Rombongan Belajar\",\"R. Kelas\": \"Kelas\", \"R. Lab\": \"Lab\", \"R. Perpus\": \"Perpus\"})\n",
    "lengkong3 = pd.read_csv('dataset_bandung/sma/lengkong3.csv').rename(columns={\"R. Kelas\": \"Kelas\", \"R. Lab\": \"Lab\", \"R. Perpus\": \"Perpus\"})\n",
    "lengkong4 = pd.read_csv('dataset_bandung/sma/lengkong4.csv').rename(columns={\"Rombel\":\"Rombongan Belajar\",\"R. Kelas\": \"Kelas\", \"R. Lab\": \"Lab\", \"R. Perpus\": \"Perpus\"})\n",
    "\n",
    "#concat data\n",
    "lengkongc1= lengkong1[['Guru','Peserta Didik','Rombongan Belajar','Pegawai','Kelas','Lab','Perpus']]\n",
    "lengkongc2= lengkong2[['Guru','Peserta Didik','Rombongan Belajar','Pegawai','Kelas','Lab','Perpus']]\n",
    "lengkongc3= lengkong3[['Guru','Peserta Didik','Rombongan Belajar','Pegawai','Kelas','Lab','Perpus']]\n",
    "lengkongc4= lengkong4[['Guru','Peserta Didik','Rombongan Belajar','Pegawai','Kelas','Lab','Perpus']]\n",
    "\n",
    "lengkongs=[lengkongc2,lengkongc3,lengkongc3,lengkongc4]\n",
    "\n",
    "lengkong_final=pd.concat(lengkongs,ignore_index=True)\n",
    "#lengkong_final"
   ]
  },
  {
   "cell_type": "code",
   "execution_count": 135,
   "metadata": {},
   "outputs": [],
   "source": [
    "#Kecamatan panyileukan\n",
    "panyileukan1 = pd.read_csv('dataset_bandung/sma/panyileukan1.csv').rename(columns={\"Peserta Daerah\":\"Peserta Didik\",\"Rombel\":\"Rombongan Belajar\",\"R. Kelas\": \"Kelas\", \"R. Lab\": \"Lab\", \"R. Perpus\": \"Perpus\"})\n",
    "panyileukan2 = pd.read_csv('dataset_bandung/sma/panyileukan2.csv').rename(columns={\"Rombel\":\"Rombongan Belajar\",\"R. Kelas\": \"Kelas\", \"R. Lab\": \"Lab\", \"R. Perpus\": \"Perpus\"})\n",
    "panyileukan3 = pd.read_csv('dataset_bandung/sma/panyileukan3.csv').rename(columns={\"R. Kelas\": \"Kelas\", \"R. Lab\": \"Lab\", \"R. Perpus\": \"Perpus\"})\n",
    "panyileukan4 = pd.read_csv('dataset_bandung/sma/panyileukan4.csv').rename(columns={\"Rombel\":\"Rombongan Belajar\",\"R. Kelas\": \"Kelas\", \"R. Lab\": \"Lab\", \"R. Perpus\": \"Perpus\"})\n",
    "\n",
    "#concat data\n",
    "panyileukanc1= panyileukan1[['Guru','Peserta Didik','Rombongan Belajar','Pegawai','Kelas','Lab','Perpus']]\n",
    "panyileukanc2= panyileukan2[['Guru','Peserta Didik','Rombongan Belajar','Pegawai','Kelas','Lab','Perpus']]\n",
    "panyileukanc3= panyileukan3[['Guru','Peserta Didik','Rombongan Belajar','Pegawai','Kelas','Lab','Perpus']]\n",
    "panyileukanc4= panyileukan4[['Guru','Peserta Didik','Rombongan Belajar','Pegawai','Kelas','Lab','Perpus']]\n",
    "\n",
    "panyileukans=[panyileukanc2,panyileukanc3,panyileukanc3,panyileukanc4]\n",
    "\n",
    "panyileukan_final=pd.concat(panyileukans,ignore_index=True)\n",
    "#panyileukan_final"
   ]
  },
  {
   "cell_type": "code",
   "execution_count": 161,
   "metadata": {},
   "outputs": [],
   "source": [
    "#Kecamatan rancasari\n",
    "rancasari1 = pd.read_csv('dataset_bandung/sma/rancasari1.csv').rename(columns={\"Peserta Daerah\":\"Peserta Didik\",\"Rombel\":\"Rombongan Belajar\",\"R. Kelas\": \"Kelas\", \"R. Lab\": \"Lab\", \"R. Perpus\": \"Perpus\"})\n",
    "rancasari2 = pd.read_csv('dataset_bandung/sma/rancasari2.csv').rename(columns={\"Rombel\":\"Rombongan Belajar\",\"R. Kelas\": \"Kelas\", \"R. Lab\": \"Lab\", \"R. Perpus\": \"Perpus\"})\n",
    "rancasari3 = pd.read_csv('dataset_bandung/sma/rancasari3.csv').rename(columns={\"R. Kelas\": \"Kelas\", \"R. Lab\": \"Lab\", \"R. Perpus\": \"Perpus\"})\n",
    "rancasari4 = pd.read_csv('dataset_bandung/sma/rancasari4.csv').rename(columns={\"Rombel\":\"Rombongan Belajar\",\"R. Kelas\": \"Kelas\", \"R. Lab\": \"Lab\", \"R. Perpus\": \"Perpus\"})\n",
    "\n",
    "#concat data\n",
    "rancasaric1= rancasari1[['Guru','Peserta Didik','Rombongan Belajar','Pegawai','Kelas','Lab','Perpus']]\n",
    "rancasaric2= rancasari2[['Guru','Peserta Didik','Rombongan Belajar','Pegawai','Kelas','Lab','Perpus']]\n",
    "rancasaric3= rancasari3[['Guru','Peserta Didik','Rombongan Belajar','Pegawai','Kelas','Lab','Perpus']]\n",
    "rancasaric4= rancasari4[['Guru','Peserta Didik','Rombongan Belajar','Pegawai','Kelas','Lab','Perpus']]\n",
    "\n",
    "rancasaris=[rancasaric2,rancasaric3,rancasaric3,rancasaric4]\n",
    "\n",
    "rancasari_final=pd.concat(rancasaris,ignore_index=True)\n",
    "#rancasari_final"
   ]
  },
  {
   "cell_type": "code",
   "execution_count": 144,
   "metadata": {},
   "outputs": [],
   "source": [
    "#Kecamatan regol\n",
    "regol1 = pd.read_csv('dataset_bandung/sma/regol1.csv').rename(columns={\"Peserta Daerah\":\"Peserta Didik\",\"Rombel\":\"Rombongan Belajar\",\"R. Kelas\": \"Kelas\", \"R. Lab\": \"Lab\", \"R. Perpus\": \"Perpus\"})\n",
    "regol2 = pd.read_csv('dataset_bandung/sma/regol2.csv').rename(columns={\"Rombel\":\"Rombongan Belajar\",\"R. Kelas\": \"Kelas\", \"R. Lab\": \"Lab\", \"R. Perpus\": \"Perpus\"})\n",
    "regol3 = pd.read_csv('dataset_bandung/sma/regol3.csv').rename(columns={\"R. Kelas\": \"Kelas\", \"R. Lab\": \"Lab\", \"R. Perpus\": \"Perpus\"})\n",
    "regol4 = pd.read_csv('dataset_bandung/sma/regol4.csv').rename(columns={\"Rombel\":\"Rombongan Belajar\",\"R. Kelas\": \"Kelas\", \"R. Lab\": \"Lab\", \"R. Perpus\": \"Perpus\"})\n",
    "\n",
    "#concat data\n",
    "regolc1= regol1[['Guru','Peserta Didik','Rombongan Belajar','Pegawai','Kelas','Lab','Perpus']]\n",
    "regolc2= regol2[['Guru','Peserta Didik','Rombongan Belajar','Pegawai','Kelas','Lab','Perpus']]\n",
    "regolc3= regol3[['Guru','Peserta Didik','Rombongan Belajar','Pegawai','Kelas','Lab','Perpus']]\n",
    "regolc4= regol4[['Guru','Peserta Didik','Rombongan Belajar','Pegawai','Kelas','Lab','Perpus']]\n",
    "\n",
    "regols=[regolc2,regolc3,regolc3,regolc4]\n",
    "\n",
    "regol_final=pd.concat(regols,ignore_index=True)\n",
    "#regol_final\n",
    "\n"
   ]
  },
  {
   "cell_type": "code",
   "execution_count": 162,
   "metadata": {},
   "outputs": [],
   "source": [
    "#Kecamatan sukajadi\n",
    "sukajadi1 = pd.read_csv('dataset_bandung/sma/sukajadi1.csv').rename(columns={\"Peserta Daerah\":\"Peserta Didik\",\"Rombel\":\"Rombongan Belajar\",\"R. Kelas\": \"Kelas\", \"R. Lab\": \"Lab\", \"R. Perpus\": \"Perpus\"})\n",
    "sukajadi2 = pd.read_csv('dataset_bandung/sma/sukajadi2.csv').rename(columns={\"Rombel\":\"Rombongan Belajar\",\"R. Kelas\": \"Kelas\", \"R. Lab\": \"Lab\", \"R. Perpus\": \"Perpus\"})\n",
    "sukajadi3 = pd.read_csv('dataset_bandung/sma/sukajadi3.csv').rename(columns={\"R. Kelas\": \"Kelas\", \"R. Lab\": \"Lab\", \"R. Perpus\": \"Perpus\"})\n",
    "sukajadi4 = pd.read_csv('dataset_bandung/sma/sukajadi4.csv').rename(columns={\"Rombel\":\"Rombongan Belajar\",\"R. Kelas\": \"Kelas\", \"R. Lab\": \"Lab\", \"R. Perpus\": \"Perpus\"})\n",
    "\n",
    "#concat data\n",
    "sukajadic1= sukajadi1[['Guru','Peserta Didik','Rombongan Belajar','Pegawai','Kelas','Lab','Perpus']]\n",
    "sukajadic2= sukajadi2[['Guru','Peserta Didik','Rombongan Belajar','Pegawai','Kelas','Lab','Perpus']]\n",
    "sukajadic3= sukajadi3[['Guru','Peserta Didik','Rombongan Belajar','Pegawai','Kelas','Lab','Perpus']]\n",
    "sukajadic4= sukajadi4[['Guru','Peserta Didik','Rombongan Belajar','Pegawai','Kelas','Lab','Perpus']]\n",
    "\n",
    "sukajadis=[sukajadic2,sukajadic3,sukajadic3,sukajadic4]\n",
    "\n",
    "sukajadi_final=pd.concat(sukajadis,ignore_index=True)\n",
    "#sukajadi_final"
   ]
  },
  {
   "cell_type": "code",
   "execution_count": 163,
   "metadata": {},
   "outputs": [],
   "source": [
    "#Kecamatan sukasari\n",
    "sukasari1 = pd.read_csv('dataset_bandung/sma/sukasari1.csv').rename(columns={\"Peserta Daerah\":\"Peserta Didik\",\"Rombel\":\"Rombongan Belajar\",\"R. Kelas\": \"Kelas\", \"R. Lab\": \"Lab\", \"R. Perpus\": \"Perpus\"})\n",
    "sukasari2 = pd.read_csv('dataset_bandung/sma/sukasari2.csv').rename(columns={\"Rombel\":\"Rombongan Belajar\",\"R. Kelas\": \"Kelas\", \"R. Lab\": \"Lab\", \"R. Perpus\": \"Perpus\"})\n",
    "sukasari3 = pd.read_csv('dataset_bandung/sma/sukasari3.csv').rename(columns={\"R. Kelas\": \"Kelas\", \"R. Lab\": \"Lab\", \"R. Perpus\": \"Perpus\"})\n",
    "sukasari4 = pd.read_csv('dataset_bandung/sma/sukasari4.csv').rename(columns={\"Rombel\":\"Rombongan Belajar\",\"R. Kelas\": \"Kelas\", \"R. Lab\": \"Lab\", \"R. Perpus\": \"Perpus\"})\n",
    "\n",
    "#concat data\n",
    "sukasaric1= sukasari1[['Guru','Peserta Didik','Rombongan Belajar','Pegawai','Kelas','Lab','Perpus']]\n",
    "sukasaric2= sukasari2[['Guru','Peserta Didik','Rombongan Belajar','Pegawai','Kelas','Lab','Perpus']]\n",
    "sukasaric3= sukasari3[['Guru','Peserta Didik','Rombongan Belajar','Pegawai','Kelas','Lab','Perpus']]\n",
    "sukasaric4= sukasari4[['Guru','Peserta Didik','Rombongan Belajar','Pegawai','Kelas','Lab','Perpus']]\n",
    "\n",
    "sukasaris=[sukasaric2,sukasaric3,sukasaric3,sukasaric4]\n",
    "\n",
    "sukasari_final=pd.concat(sukasaris,ignore_index=True)\n",
    "#sukasari_final"
   ]
  },
  {
   "cell_type": "code",
   "execution_count": 164,
   "metadata": {},
   "outputs": [],
   "source": [
    "#Kecamatan ujung berung\n",
    "ujungberung1 = pd.read_csv('dataset_bandung/sma/ujungberung1.csv').rename(columns={\"Peserta Daerah\":\"Peserta Didik\",\"Rombel\":\"Rombongan Belajar\",\"R. Kelas\": \"Kelas\", \"R. Lab\": \"Lab\", \"R. Perpus\": \"Perpus\"})\n",
    "ujungberung2 = pd.read_csv('dataset_bandung/sma/ujungberung2.csv').rename(columns={\"Rombel\":\"Rombongan Belajar\",\"R. Kelas\": \"Kelas\", \"R. Lab\": \"Lab\", \"R. Perpus\": \"Perpus\"})\n",
    "ujungberung3 = pd.read_csv('dataset_bandung/sma/ujungberung3.csv').rename(columns={\"R. Kelas\": \"Kelas\", \"R. Lab\": \"Lab\", \"R. Perpus\": \"Perpus\"})\n",
    "ujungberung4 = pd.read_csv('dataset_bandung/sma/ujungberung4.csv').rename(columns={\"Rombel\":\"Rombongan Belajar\",\"R. Kelas\": \"Kelas\", \"R. Lab\": \"Lab\", \"R. Perpus\": \"Perpus\"})\n",
    "\n",
    "#concat data\n",
    "ujungberungc1= ujungberung1[['Guru','Peserta Didik','Rombongan Belajar','Pegawai','Kelas','Lab','Perpus']]\n",
    "ujungberungc2= ujungberung2[['Guru','Peserta Didik','Rombongan Belajar','Pegawai','Kelas','Lab','Perpus']]\n",
    "ujungberungc3= ujungberung3[['Guru','Peserta Didik','Rombongan Belajar','Pegawai','Kelas','Lab','Perpus']]\n",
    "ujungberungc4= ujungberung4[['Guru','Peserta Didik','Rombongan Belajar','Pegawai','Kelas','Lab','Perpus']]\n",
    "\n",
    "ujungberungs=[ujungberungc2,ujungberungc3,ujungberungc3,ujungberungc4]\n",
    "\n",
    "ujungberung_final=pd.concat(ujungberungs,ignore_index=True)\n",
    "#ujungberung_final"
   ]
  },
  {
   "cell_type": "code",
   "execution_count": 166,
   "metadata": {},
   "outputs": [
    {
     "name": "stdout",
     "output_type": "stream",
     "text": [
      "<class 'pandas.core.frame.DataFrame'>\n",
      "RangeIndex: 454 entries, 0 to 453\n",
      "Data columns (total 7 columns):\n",
      "Guru                 454 non-null int64\n",
      "Peserta Didik        454 non-null float64\n",
      "Rombongan Belajar    454 non-null int64\n",
      "Pegawai              454 non-null int64\n",
      "Kelas                454 non-null int64\n",
      "Lab                  454 non-null int64\n",
      "Perpus               454 non-null int64\n",
      "dtypes: float64(1), int64(6)\n",
      "memory usage: 24.9 KB\n"
     ]
    }
   ],
   "source": [
    "#SEMUA KECAMATAN\n",
    "sma_bandungs = [andir_final,antapani_final,arcamanik_final, astanaanyar_final,batununggal_final,bkidul_final,bkulon_final,buahbatu_final,cikaler_final,cibiru_final,cicendo_final,cidadap_final,coblong_final,gedebage_final,kiaracondong_final,lengkong_final,panyileukan_final,rancasari_final,regol_final,sukajadi_final,sukasari_final,ujungberung_final]\n",
    "data_sma_bandung=pd.concat(sma_bandungs, ignore_index=True)\n",
    "data_sma_bandung.info()"
   ]
  },
  {
   "cell_type": "code",
   "execution_count": 170,
   "metadata": {},
   "outputs": [
    {
     "data": {
      "text/plain": [
       "Guru                  21.557552\n",
       "Peserta Didik        430.728628\n",
       "Rombongan Belajar     11.587020\n",
       "Pegawai                9.423541\n",
       "Kelas                 10.683533\n",
       "Lab                    2.149153\n",
       "Perpus                 0.304364\n",
       "dtype: float64"
      ]
     },
     "execution_count": 170,
     "metadata": {},
     "output_type": "execute_result"
    }
   ],
   "source": [
    "#analisa kuantitatif\n",
    "#mean_sma_bandung = data_sma_bandung.mean()\n",
    "#median_sma_bandung = data_sma_bandung.median()\n",
    "data_sma_bandung.std()"
   ]
  },
  {
   "cell_type": "code",
   "execution_count": 171,
   "metadata": {},
   "outputs": [
    {
     "data": {
      "image/png": "[encoded data removed]",
      "text/plain": [
       "<Figure size 432x288 with 2 Axes>"
      ]
     },
     "metadata": {
      "needs_background": "light"
     },
     "output_type": "display_data"
    }
   ],
   "source": [
    "#mencari korelasi semua sma di kecamatan di bandung\n",
    "\n",
    "corr = data_sma_bandung.corr()\n",
    "fig = plt.figure()\n",
    "ax = fig.add_subplot(111)\n",
    "cax = ax.matshow(corr,cmap='coolwarm', vmin=-1, vmax=1)\n",
    "fig.colorbar(cax)\n",
    "ticks = np.arange(0,len(data_sma_bandung.columns),1)\n",
    "ax.set_xticks(ticks)\n",
    "plt.xticks(rotation=90)\n",
    "ax.set_yticks(ticks)\n",
    "ax.set_xticklabels(data_sma_bandung.columns)\n",
    "ax.set_yticklabels(data_sma_bandung.columns)\n",
    "plt.show()"
   ]
  },
  {
   "cell_type": "code",
   "execution_count": 172,
   "metadata": {},
   "outputs": [
    {
     "data": {
      "text/plain": [
       "<matplotlib.axes._subplots.AxesSubplot at 0x21b3f4467f0>"
      ]
     },
     "execution_count": 172,
     "metadata": {},
     "output_type": "execute_result"
    },
    {
     "data": {
      "image/png": "[encoded data removed]",
      "text/plain": [
       "<Figure size 432x288 with 1 Axes>"
      ]
     },
     "metadata": {
      "needs_background": "light"
     },
     "output_type": "display_data"
    }
   ],
   "source": [
    "data_sma_bandung.plot.scatter(x=\"Guru\", y=\"Peserta Didik\")"
   ]
  },
  {
   "cell_type": "code",
   "execution_count": 175,
   "metadata": {},
   "outputs": [
    {
     "data": {
      "text/plain": [
       "<matplotlib.axes._subplots.AxesSubplot at 0x21b4055cb70>"
      ]
     },
     "execution_count": 175,
     "metadata": {},
     "output_type": "execute_result"
    },
    {
     "data": {
      "image/png": "[encoded data removed]",
      "text/plain": [
       "<Figure size 432x288 with 1 Axes>"
      ]
     },
     "metadata": {
      "needs_background": "light"
     },
     "output_type": "display_data"
    }
   ],
   "source": [
    "data_sma_bandung.plot.scatter(x=\"Guru\", y=\"Rombongan Belajar\")"
   ]
  },
  {
   "cell_type": "code",
   "execution_count": 180,
   "metadata": {},
   "outputs": [
    {
     "data": {
      "text/plain": [
       "<matplotlib.axes._subplots.AxesSubplot at 0x21b40754c88>"
      ]
     },
     "execution_count": 180,
     "metadata": {},
     "output_type": "execute_result"
    },
    {
     "data": {
      "image/png": "[encoded data removed]",
      "text/plain": [
       "<Figure size 432x288 with 1 Axes>"
      ]
     },
     "metadata": {
      "needs_background": "light"
     },
     "output_type": "display_data"
    }
   ],
   "source": [
    "data_sma_bandung.plot.scatter(x=\"Rombongan Belajar\", y=\"Peserta Didik\")"
   ]
  },
  {
   "cell_type": "code",
   "execution_count": 181,
   "metadata": {},
   "outputs": [
    {
     "name": "stdout",
     "output_type": "stream",
     "text": [
      "<class 'pandas.core.frame.DataFrame'>\n",
      "RangeIndex: 454 entries, 0 to 453\n",
      "Data columns (total 7 columns):\n",
      "Guru                 454 non-null int64\n",
      "Peserta Didik        454 non-null float64\n",
      "Rombongan Belajar    454 non-null int64\n",
      "Pegawai              454 non-null int64\n",
      "Kelas                454 non-null int64\n",
      "Lab                  454 non-null int64\n",
      "Perpus               454 non-null int64\n",
      "dtypes: float64(1), int64(6)\n",
      "memory usage: 24.9 KB\n"
     ]
    }
   ],
   "source": [
    "data_sma_bandung.info()"
   ]
  }
 ],
 "metadata": {
  "kernelspec": {
   "display_name": "Python 3",
   "language": "python",
   "name": "python3"
  },
  "language_info": {
   "codemirror_mode": {
    "name": "ipython",
    "version": 3
   },
   "file_extension": ".py",
   "mimetype": "text/x-python",
   "name": "python",
   "nbconvert_exporter": "python",
   "pygments_lexer": "ipython3",
   "version": "3.7.3"
  }
 },
 "nbformat": 4,
 "nbformat_minor": 2
}
