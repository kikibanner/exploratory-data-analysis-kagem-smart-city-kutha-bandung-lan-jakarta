{
 "cells": [
  {
   "cell_type": "code",
   "execution_count": 1,
   "metadata": {},
   "outputs": [],
   "source": [
    "import pandas as pd\n",
    "import matplotlib.pyplot as plt\n",
    "#from functools import reduce\n",
    "import numpy as np"
   ]
  },
  {
   "cell_type": "markdown",
   "metadata": {},
   "source": [
    "# SD"
   ]
  },
  {
   "cell_type": "code",
   "execution_count": 26,
   "metadata": {},
   "outputs": [],
   "source": [
    "jumlah_guru = pd.read_csv('dataset_jakarta/sd/jumlah_guru_sd.csv')\n",
    "Sekolah_Guru_Murid_Kelas_by_Jenis_Sekolah1 = pd.read_csv('dataset_jakarta/sd/Jumlah_Sekolah_Guru_Murid_Dan_Ruang_Kelas_Menurut_Jenis_Sekolah1.csv')\n",
    "Sekolah_Guru_Murid_Kelas_by_Jenis_Sekolah2 = pd.read_csv('dataset_jakarta/sd/Jumlah_Sekolah_Guru_Murid_Dan_Ruang_Kelas_Menurut_Jenis_Sekolah2.csv')\n",
    "Sekolah_Guru_Murid_Kelas_by_Status_Sekolah1 = pd.read_csv('dataset_jakarta/sd/Jumlah_Sekolah_Guru_Murid_Dan_Ruang_Kelas_SD_Menurut_Status_Sekolah1.csv')\n",
    "Sekolah_Guru_Murid_Kelas_by_Status_Sekolah2 = pd.read_csv('dataset_jakarta/sd/Jumlah_Sekolah_Guru_Murid_Dan_Ruang_Kelas_SD_Menurut_Status_Sekolah2.csv')\n",
    "jumlah_sekolah_sd = pd.read_csv('dataset_jakarta/sd/jumlah_sekolah_sd.csv')\n",
    "jumlah_siswa_guru_sd = pd.read_csv('dataset_jakarta/sd/jumlah_siswa_guru_sd.csv')\n",
    "jumlah_siswa_sd = pd.read_csv('dataset_jakarta/sd/jumlah_siswa_sd.csv')\n",
    "putus_sekolah1 = pd.read_csv('dataset_jakarta/sd/putus_sekolah1.csv')\n",
    "putus_sekolah2 = pd.read_csv('dataset_jakarta/sd/putus_sekolah2.csv')\n",
    "\n"
   ]
  },
  {
   "cell_type": "code",
   "execution_count": 83,
   "metadata": {},
   "outputs": [
    {
     "data": {
      "image/png": "[encoded data removed]",
      "text/plain": [
       "<Figure size 432x288 with 2 Axes>"
      ]
     },
     "metadata": {
      "needs_background": "light"
     },
     "output_type": "display_data"
    },
    {
     "data": {
      "text/plain": [
       "<matplotlib.axes._subplots.AxesSubplot at 0x1dc8fd9df28>"
      ]
     },
     "execution_count": 83,
     "metadata": {},
     "output_type": "execute_result"
    },
    {
     "data": {
      "image/png": "[encoded data removed]",
      "text/plain": [
       "<Figure size 432x288 with 1 Axes>"
      ]
     },
     "metadata": {
      "needs_background": "light"
     },
     "output_type": "display_data"
    }
   ],
   "source": [
    "#tabel jumlah guru --> jumlah guru di negeri dan swasta\n",
    "#dikategorikan per kabkota\n",
    "guru_swasta = jumlah_guru['swasta']\n",
    "guru_negeri = jumlah_guru['negeri'].apply(lambda col:pd.to_numeric(col, errors='coerce'))\n",
    "guru_negeri[20,38,39]=guru_negeri.mean()\n",
    "jumlah_guru['negeri']=guru_negeri\n",
    "\n",
    "#melihat korelasi\n",
    "corr = jumlah_guru[['negeri','swasta']].corr()\n",
    "fig = plt.figure()\n",
    "ax = fig.add_subplot(111)\n",
    "cax = ax.matshow(corr,cmap='coolwarm', vmin=-1, vmax=1)\n",
    "fig.colorbar(cax)\n",
    "ticks = np.arange(0,len(jumlah_guru[['negeri','swasta']].columns),1)\n",
    "ax.set_xticks(ticks)\n",
    "plt.xticks(rotation=90)\n",
    "ax.set_yticks(ticks)\n",
    "ax.set_xticklabels(jumlah_guru[['negeri','swasta']].columns)\n",
    "ax.set_yticklabels(jumlah_guru[['negeri','swasta']].columns)\n",
    "plt.show()\n",
    "\n",
    "jumlah_guru.plot(x='negeri', y='swasta', kind='scatter')"
   ]
  },
  {
   "cell_type": "markdown",
   "metadata": {},
   "source": [
    "Sekolah_Guru_Murid_Kelas_by_Jenis_Sekolah1"
   ]
  },
  {
   "cell_type": "code",
   "execution_count": 89,
   "metadata": {},
   "outputs": [
    {
     "data": {
      "text/plain": [
       "T.K./Kindergarten                 2\n",
       "SMK/SeniorVocationalHighSchool    2\n",
       "S.D/ElementarySchool              2\n",
       "SLTP/JuniorHighSchool             2\n",
       "SMU/SeniorHighSchool              2\n",
       "Name: tingkat_pendidikan, dtype: int64"
      ]
     },
     "execution_count": 89,
     "metadata": {},
     "output_type": "execute_result"
    }
   ],
   "source": [
    "Sekolah_Guru_Murid_Kelas_by_Jenis_Sekolah1['tingkat_pendidikan'].value_counts()\n",
    "#Sekolah_Guru_Murid_Kelas_by_Jenis_Sekolah2['tingkat_sekolah'].value_counts()"
   ]
  }
 ],
 "metadata": {
  "kernelspec": {
   "display_name": "Python 3",
   "language": "python",
   "name": "python3"
  },
  "language_info": {
   "codemirror_mode": {
    "name": "ipython",
    "version": 3
   },
   "file_extension": ".py",
   "mimetype": "text/x-python",
   "name": "python",
   "nbconvert_exporter": "python",
   "pygments_lexer": "ipython3",
   "version": "3.7.3"
  }
 },
 "nbformat": 4,
 "nbformat_minor": 2
}
