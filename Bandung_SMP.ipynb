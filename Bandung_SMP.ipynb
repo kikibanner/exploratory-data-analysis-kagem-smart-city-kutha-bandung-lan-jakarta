{
 "cells": [
  {
   "cell_type": "markdown",
   "metadata": {},
   "source": [
    "# Data SMP Bandung"
   ]
  },
  {
   "cell_type": "code",
   "execution_count": 2,
   "metadata": {},
   "outputs": [],
   "source": [
    "import pandas as pd\n",
    "import matplotlib.pyplot as plt\n",
    "#from functools import reduce\n",
    "import numpy as np"
   ]
  },
  {
   "cell_type": "markdown",
   "metadata": {},
   "source": [
    "# SMP"
   ]
  },
  {
   "cell_type": "code",
   "execution_count": 3,
   "metadata": {},
   "outputs": [],
   "source": [
    "#Load dan Cleansing Data\n",
    "#.rename(columns={\"Rombongan belajar\":\"Rombongan Belajar\",\"R. Kelas\": \"Kelas\", \"R. Lab\": \"Lab\", \"R. Perpus\": \"Perpus\"})"
   ]
  },
  {
   "cell_type": "code",
   "execution_count": 49,
   "metadata": {},
   "outputs": [],
   "source": [
    "#Kecamatan Babakan Ciparay\n",
    "babakan1=pd.read_csv('dataset_bandung/smp/babakan_ciparay1.csv').rename(columns={\"Rombongan belajar\":\"Rombongan Belajar\",\"R. Kelas\": \"Kelas\", \"R. Lab\": \"Lab\", \"R. Perpus\": \"Perpus\"})\n",
    "babakan2=pd.read_csv('dataset_bandung/smp/babakan_ciparay2.csv').rename(columns={\"Rombel\":\"Rombongan Belajar\",\"R. Kelas\": \"Kelas\", \"R. Lab\": \"Lab\", \"R. Perpus\": \"Perpus\"})\n",
    "babakan3=pd.read_csv('dataset_bandung/smp/babakan_ciparay3.csv').rename(columns={\"R. Kelas\": \"Kelas\", \"R. Lab\": \"Lab\", \"R. Perpus\": \"Perpus\"})\n",
    "babakan4=pd.read_csv('dataset_bandung/smp/babakan_ciparay4.csv').rename(columns={\"R. Kelas\": \"Kelas\", \"R. Lab\": \"Lab\", \"R. Perpus\": \"Perpus\"})\n",
    "\n",
    "#concat data\n",
    "babakanc1= babakan1[['Guru','Peserta Didik','Rombongan Belajar','Pegawai','Kelas','Lab','Perpus']]\n",
    "babakanc2= babakan2[['Guru','Peserta Didik','Rombongan Belajar','Pegawai','Kelas','Lab','Perpus']]\n",
    "babakanc3= babakan3[['Guru','Peserta Didik','Rombongan Belajar','Pegawai','Kelas','Lab','Perpus']]\n",
    "babakanc4= babakan4[['Guru','Peserta Didik','Rombongan Belajar','Pegawai','Kelas','Lab','Perpus']]\n",
    "\n",
    "babakans=[babakanc2,babakanc3,babakanc3,babakanc4]\n",
    "\n",
    "babakan_final=pd.concat(babakans,ignore_index=True)\n",
    "#babakan_final"
   ]
  },
  {
   "cell_type": "code",
   "execution_count": 44,
   "metadata": {},
   "outputs": [],
   "source": [
    "#Kecamatan Bandung Kidul\n",
    "bkidul1=pd.read_csv('dataset_bandung/smp/bkidul1.csv').rename(columns={\"Rombongan belajar\":\"Rombongan Belajar\",\"R. Kelas\": \"Kelas\", \"R. Lab\": \"Lab\", \"R. Perpus\": \"Perpus\"})\n",
    "bkidul2=pd.read_csv('dataset_bandung/smp/bkidul2.csv').rename(columns={\"Rombel\":\"Rombongan Belajar\",\"R. Kelas\": \"Kelas\", \"R. Lab\": \"Lab\", \"R. Perpus\": \"Perpus\"})\n",
    "bkidul3=pd.read_csv('dataset_bandung/smp/bkidul3.csv').rename(columns={\"R. Kelas\": \"Kelas\", \"R. Lab\": \"Lab\", \"R. Perpus\": \"Perpus\"})\n",
    "\n",
    "#concat data\n",
    "bkidulc1= bkidul1[['Guru','Peserta Didik','Rombongan Belajar','Pegawai','Kelas','Lab','Perpus']]\n",
    "bkidulc2= bkidul2[['Guru','Peserta Didik','Rombongan Belajar','Pegawai','Kelas','Lab','Perpus']]\n",
    "bkidulc3= bkidul3[['Guru','Peserta Didik','Rombongan Belajar','Pegawai','Kelas','Lab','Perpus']]\n",
    "\n",
    "bkiduls=[bkidulc2,bkidulc3,bkidulc3]\n",
    "\n",
    "bkidul_final=pd.concat(bkiduls,ignore_index=True)\n",
    "#bkidul_final"
   ]
  },
  {
   "cell_type": "code",
   "execution_count": 42,
   "metadata": {},
   "outputs": [],
   "source": [
    "#Kecamatan Bandung Kulon\n",
    "bkulon1=pd.read_csv('dataset_bandung/smp/bkulon1.csv').rename(columns={\"Rombongan belajar\":\"Rombongan Belajar\",\"R. Kelas\": \"Kelas\", \"R. Lab\": \"Lab\", \"R. Perpus\": \"Perpus\"})\n",
    "bkulon2=pd.read_csv('dataset_bandung/smp/bkulon2.csv').rename(columns={\"Rombel\":\"Rombongan Belajar\",\"R. Kelas\": \"Kelas\", \"R. Lab\": \"Lab\", \"R. Perpus\": \"Perpus\"})\n",
    "bkulon3=pd.read_csv('dataset_bandung/smp/bkulon3.csv').rename(columns={\"R. Kelas\": \"Kelas\", \"R. Lab\": \"Lab\", \"R. Perpus\": \"Perpus\"})\n",
    "bkulon4=pd.read_csv('dataset_bandung/smp/bkulon4.csv').rename(columns={\"R. Kelas\": \"Kelas\", \"R. Lab\": \"Lab\", \"R. Perpus\": \"Perpus\"})\n",
    "\n",
    "#concat data\n",
    "bkulonc1= bkulon1[['Guru','Peserta Didik','Rombongan Belajar','Pegawai','Kelas','Lab','Perpus']]\n",
    "bkulonc3= bkulon3[['Guru','Peserta Didik','Rombongan Belajar','Pegawai','Kelas','Lab','Perpus']]\n",
    "bkulonc4= bkulon4[['Guru','Peserta Didik','Rombongan Belajar','Pegawai','Kelas','Lab','Perpus']]\n",
    "\n",
    "#handle data missing\n",
    "bkulon_sementara = [bkulonc1,bkulonc3,bkulonc4]\n",
    "bkulon_concat_sementara = pd.concat(bkulon_sementara,ignore_index=True)\n",
    "rerata_peserta_didik_bkulon = bkulon_concat_sementara['Peserta Didik'].mean()\n",
    "bkulon2['Peserta Didik'] = rerata_peserta_didik_bkulon\n",
    "\n",
    "#concat data\n",
    "bkulonc2=bkulon2[['Guru','Peserta Didik','Rombongan Belajar','Pegawai','Kelas','Lab','Perpus']]\n",
    "bkulons = [bkulonc2,bkulon_concat_sementara]\n",
    "\n",
    "bkulons=[bkulonc1,bkulonc2,bkulonc3,bkulonc4]\n",
    "\n",
    "bkulon_final=pd.concat(bkulons,ignore_index=True)\n",
    "#bkulon_final"
   ]
  },
  {
   "cell_type": "code",
   "execution_count": 17,
   "metadata": {},
   "outputs": [],
   "source": [
    "#Kecamatan Bojongloa Kaler\n",
    "bojongkaler1=pd.read_csv('dataset_bandung/smp/bojongloa_kaler1.csv').rename(columns={\"Rombongan belajar\":\"Rombongan Belajar\",\"R. Kelas\": \"Kelas\", \"R. Lab\": \"Lab\", \"R. Perpus\": \"Perpus\"})\n",
    "bojongkaler2=pd.read_csv('dataset_bandung/smp/bojongloa_kaler2.csv').rename(columns={\"Rombel\":\"Rombongan Belajar\",\"R. Kelas\": \"Kelas\", \"R. Lab\": \"Lab\", \"R. Perpus\": \"Perpus\"})\n",
    "bojongkaler3=pd.read_csv('dataset_bandung/smp/bojongloa_kaler3.csv').rename(columns={\"Rombngan Belajar\":\"Rombongan Belajar\",\"R. Kelas\": \"Kelas\", \"R. Lab\": \"Lab\", \"R. Perpus\": \"Perpus\"})\n",
    "bojongkaler4=pd.read_csv('dataset_bandung/smp/bojongloa_kaler4.csv').rename(columns={\"R. Kelas\": \"Kelas\", \"R. Lab\": \"Lab\", \"R. Perpus\": \"Perpus\"})\n",
    "\n",
    "#concat data\n",
    "bojongkalerc1= bojongkaler1[['Guru','Peserta Didik','Rombongan Belajar','Pegawai','Kelas','Lab','Perpus']]\n",
    "bojongkalerc2= bojongkaler2[['Guru','Peserta Didik','Rombongan Belajar','Pegawai','Kelas','Lab','Perpus']]\n",
    "bojongkalerc3= bojongkaler3[['Guru','Peserta Didik','Rombongan Belajar','Pegawai','Kelas','Lab','Perpus']]\n",
    "bojongkalerc4= bojongkaler4[['Guru','Peserta Didik','Rombongan Belajar','Pegawai','Kelas','Lab','Perpus']]\n",
    "\n",
    "bojongkalers=[bojongkalerc2,bojongkalerc3,bojongkalerc3,bojongkalerc4]\n",
    "\n",
    "bojongkaler_final=pd.concat(bojongkalers,ignore_index=True)\n",
    "#bojongkaler_final"
   ]
  },
  {
   "cell_type": "code",
   "execution_count": 18,
   "metadata": {},
   "outputs": [],
   "source": [
    "#Kecamatan Bojongloa Kidul\n",
    "bojongkidul1=pd.read_csv('dataset_bandung/smp/bojongloa_kidul1.csv').rename(columns={\"Rombongan belajar\":\"Rombongan Belajar\",\"R. Kelas\": \"Kelas\", \"R. Lab\": \"Lab\", \"R. Perpus\": \"Perpus\"})\n",
    "bojongkidul2=pd.read_csv('dataset_bandung/smp/bojongloa_kidul2.csv').rename(columns={\"Rombel\":\"Rombongan Belajar\",\"R. Kelas\": \"Kelas\", \"R. Lab\": \"Lab\", \"R. Perpus\": \"Perpus\"})\n",
    "bojongkidul3=pd.read_csv('dataset_bandung/smp/bojongloa_kidul3.csv').rename(columns={\"R. Kelas\": \"Kelas\", \"R. Lab\": \"Lab\", \"R. Perpus\": \"Perpus\"})\n",
    "bojongkidul4=pd.read_csv('dataset_bandung/smp/bojongloa_kidul4.csv').rename(columns={\"R. Kelas\": \"Kelas\", \"R. Lab\": \"Lab\", \"R. Perpus\": \"Perpus\"})\n",
    "\n",
    "#concat data\n",
    "bojongkidulc1= bojongkidul1[['Guru','Peserta Didik','Rombongan Belajar','Pegawai','Kelas','Lab','Perpus']]\n",
    "bojongkidulc2= bojongkidul2[['Guru','Peserta Didik','Rombongan Belajar','Pegawai','Kelas','Lab','Perpus']]\n",
    "bojongkidulc3= bojongkidul3[['Guru','Peserta Didik','Rombongan Belajar','Pegawai','Kelas','Lab','Perpus']]\n",
    "bojongkidulc4= bojongkidul4[['Guru','Peserta Didik','Rombongan Belajar','Pegawai','Kelas','Lab','Perpus']]\n",
    "\n",
    "bojongkiduls=[bojongkidulc2,bojongkidulc3,bojongkidulc3,bojongkidulc4]\n",
    "\n",
    "bojongkidul_final=pd.concat(bojongkiduls,ignore_index=True)\n",
    "#bojongkidul_final"
   ]
  },
  {
   "cell_type": "code",
   "execution_count": 19,
   "metadata": {},
   "outputs": [],
   "source": [
    "#Kecamatan Bandung Wetan\n",
    "bwetan1=pd.read_csv('dataset_bandung/smp/bwetan1.csv').rename(columns={\"Rombongan belajar\":\"Rombongan Belajar\",\"R. Kelas\": \"Kelas\", \"R. Lab\": \"Lab\", \"R. Perpus\": \"Perpus\"})\n",
    "bwetan2=pd.read_csv('dataset_bandung/smp/bwetan2.csv').rename(columns={\"Rombel\":\"Rombongan Belajar\",\"R. Kelas\": \"Kelas\", \"R. Lab\": \"Lab\", \"R. Perpus\": \"Perpus\"})\n",
    "bwetan3=pd.read_csv('dataset_bandung/smp/bwetan3.csv').rename(columns={\"R. Kelas\": \"Kelas\", \"R. Lab\": \"Lab\", \"R. Perpus\": \"Perpus\"})\n",
    "bwetan4=pd.read_csv('dataset_bandung/smp/bwetan4.csv').rename(columns={\"R. Kelas\": \"Kelas\", \"R. Lab\": \"Lab\", \"R. Perpus\": \"Perpus\"})\n",
    "\n",
    "#concat data\n",
    "bwetanc1= bwetan1[['Guru','Peserta Didik','Rombongan Belajar','Pegawai','Kelas','Lab','Perpus']]\n",
    "bwetanc2= bwetan2[['Guru','Peserta Didik','Rombongan Belajar','Pegawai','Kelas','Lab','Perpus']]\n",
    "bwetanc3= bwetan3[['Guru','Peserta Didik','Rombongan Belajar','Pegawai','Kelas','Lab','Perpus']]\n",
    "bwetanc4= bwetan4[['Guru','Peserta Didik','Rombongan Belajar','Pegawai','Kelas','Lab','Perpus']]\n",
    "\n",
    "bwetans=[bwetanc2,bwetanc3,bwetanc3,bwetanc4]\n",
    "\n",
    "bwetan_final=pd.concat(bwetans,ignore_index=True)\n",
    "#bwetan_final"
   ]
  },
  {
   "cell_type": "code",
   "execution_count": 20,
   "metadata": {},
   "outputs": [],
   "source": [
    "#Kecamatan Cibeunying Kaler\n",
    "cikaler1=pd.read_csv('dataset_bandung/smp/cibeunying_kaler1.csv').rename(columns={\"Rombongan belajar\":\"Rombongan Belajar\",\"R. Kelas\": \"Kelas\", \"R. Lab\": \"Lab\", \"R. Perpus\": \"Perpus\"})\n",
    "cikaler2=pd.read_csv('dataset_bandung/smp/cibeunying_kaler2.csv').rename(columns={\"Rombel\":\"Rombongan Belajar\",\"R. Kelas\": \"Kelas\", \"R. Lab\": \"Lab\", \"R. Perpus\": \"Perpus\"})\n",
    "cikaler3=pd.read_csv('dataset_bandung/smp/cibeunying_kaler3.csv').rename(columns={\"R. Kelas\": \"Kelas\", \"R. Lab\": \"Lab\", \"R. Perpus\": \"Perpus\"})\n",
    "cikaler4=pd.read_csv('dataset_bandung/smp/cibeunying_kaler4.csv').rename(columns={\"R. Kelas\": \"Kelas\", \"R. Lab\": \"Lab\", \"R. Perpus\": \"Perpus\"})\n",
    "\n",
    "#concat data\n",
    "cikalerc1= cikaler1[['Guru','Peserta Didik','Rombongan Belajar','Pegawai','Kelas','Lab','Perpus']]\n",
    "cikalerc2= cikaler2[['Guru','Peserta Didik','Rombongan Belajar','Pegawai','Kelas','Lab','Perpus']]\n",
    "cikalerc3= cikaler3[['Guru','Peserta Didik','Rombongan Belajar','Pegawai','Kelas','Lab','Perpus']]\n",
    "cikalerc4= cikaler4[['Guru','Peserta Didik','Rombongan Belajar','Pegawai','Kelas','Lab','Perpus']]\n",
    "\n",
    "cikalers=[cikalerc2,cikalerc3,cikalerc3,cikalerc4]\n",
    "\n",
    "cikaler_final=pd.concat(cikalers,ignore_index=True)\n",
    "#cikaler_final"
   ]
  },
  {
   "cell_type": "code",
   "execution_count": 21,
   "metadata": {},
   "outputs": [],
   "source": [
    "#Kecamatan Cibeunying Kidul\n",
    "cikidul1=pd.read_csv('dataset_bandung/smp/cibeunying_kidul1.csv').rename(columns={\"Rombongan belajar\":\"Rombongan Belajar\",\"R. Kelas\": \"Kelas\", \"R. Lab\": \"Lab\", \"R. Perpus\": \"Perpus\"})\n",
    "cikidul2=pd.read_csv('dataset_bandung/smp/cibeunying_kidul2.csv').rename(columns={\"Rombel\":\"Rombongan Belajar\",\"R. Kelas\": \"Kelas\", \"R. Lab\": \"Lab\", \"R. Perpus\": \"Perpus\"})\n",
    "cikidul3=pd.read_csv('dataset_bandung/smp/cibeunying_kidul3.csv').rename(columns={\"R. Kelas\": \"Kelas\", \"R. Lab\": \"Lab\", \"R. Perpus\": \"Perpus\"})\n",
    "cikidul4=pd.read_csv('dataset_bandung/smp/cibeunying_kidul4.csv').rename(columns={\"R. Kelas\": \"Kelas\", \"R. Lab\": \"Lab\", \"R. Perpus\": \"Perpus\"})\n",
    "\n",
    "#concat data\n",
    "cikidulc1= cikidul1[['Guru','Peserta Didik','Rombongan Belajar','Pegawai','Kelas','Lab','Perpus']]\n",
    "cikidulc2= cikidul2[['Guru','Peserta Didik','Rombongan Belajar','Pegawai','Kelas','Lab','Perpus']]\n",
    "cikidulc3= cikidul3[['Guru','Peserta Didik','Rombongan Belajar','Pegawai','Kelas','Lab','Perpus']]\n",
    "cikidulc4= cikidul4[['Guru','Peserta Didik','Rombongan Belajar','Pegawai','Kelas','Lab','Perpus']]\n",
    "\n",
    "cikiduls=[cikidulc2,cikidulc3,cikidulc3,cikidulc4]\n",
    "\n",
    "cikidul_final=pd.concat(cikiduls,ignore_index=True)\n",
    "#cikidul_final"
   ]
  },
  {
   "cell_type": "code",
   "execution_count": 22,
   "metadata": {},
   "outputs": [],
   "source": [
    "#Kecamatan Cidadap\n",
    "cidadap1=pd.read_csv('dataset_bandung/smp/cidadap1.csv').rename(columns={\"Rombongan belajar\":\"Rombongan Belajar\",\"R. Kelas\": \"Kelas\", \"R. Lab\": \"Lab\", \"R. Perpus\": \"Perpus\"})\n",
    "cidadap2=pd.read_csv('dataset_bandung/smp/cidadap2.csv').rename(columns={\"Rombel\":\"Rombongan Belajar\",\"R. Kelas\": \"Kelas\", \"R. Lab\": \"Lab\", \"R. Perpus\": \"Perpus\"})\n",
    "cidadap3=pd.read_csv('dataset_bandung/smp/cidadap3.csv').rename(columns={\"R. Kelas\": \"Kelas\", \"R. Lab\": \"Lab\", \"R. Perpus\": \"Perpus\"})\n",
    "cidadap4=pd.read_csv('dataset_bandung/smp/cidadap4.csv').rename(columns={\"R. Kelas\": \"Kelas\", \"R. Lab\": \"Lab\", \"R. Perpus\": \"Perpus\"})\n",
    "\n",
    "#concat data\n",
    "cidadapc1= cidadap1[['Guru','Peserta Didik','Rombongan Belajar','Pegawai','Kelas','Lab','Perpus']]\n",
    "cidadapc2= cidadap2[['Guru','Peserta Didik','Rombongan Belajar','Pegawai','Kelas','Lab','Perpus']]\n",
    "cidadapc3= cidadap3[['Guru','Peserta Didik','Rombongan Belajar','Pegawai','Kelas','Lab','Perpus']]\n",
    "cidadapc4= cidadap4[['Guru','Peserta Didik','Rombongan Belajar','Pegawai','Kelas','Lab','Perpus']]\n",
    "\n",
    "cidadaps=[cidadapc2,cidadapc3,cidadapc3,cidadapc4]\n",
    "\n",
    "cidadap_final=pd.concat(cidadaps,ignore_index=True)\n",
    "#cidadap_final"
   ]
  },
  {
   "cell_type": "code",
   "execution_count": 23,
   "metadata": {},
   "outputs": [],
   "source": [
    "#Kecamatan Cinambo\n",
    "cinambo1=pd.read_csv('dataset_bandung/smp/cinambo1.csv').rename(columns={\"Rombongan belajar\":\"Rombongan Belajar\",\"R. Kelas\": \"Kelas\", \"R. Lab\": \"Lab\", \"R. Perpus\": \"Perpus\"})\n",
    "cinambo2=pd.read_csv('dataset_bandung/smp/cinambo2.csv').rename(columns={\"Rombel\":\"Rombongan Belajar\",\"R. Kelas\": \"Kelas\", \"R. Lab\": \"Lab\", \"R. Perpus\": \"Perpus\"})\n",
    "cinambo3=pd.read_csv('dataset_bandung/smp/cinambo3.csv').rename(columns={\"R. Kelas\": \"Kelas\", \"R. Lab\": \"Lab\", \"R. Perpus\": \"Perpus\"})\n",
    "cinambo4=pd.read_csv('dataset_bandung/smp/cinambo4.csv').rename(columns={\"Peserta Didik \":\"Peserta Didik\",\"R. Kelas\": \"Kelas\", \"R. Lab\": \"Lab\", \"R. Perpus\": \"Perpus\"})\n",
    "\n",
    "#concat data\n",
    "cinamboc1= cinambo1[['Guru','Peserta Didik','Rombongan Belajar','Pegawai','Kelas','Lab','Perpus']]\n",
    "cinamboc2= cinambo2[['Guru','Peserta Didik','Rombongan Belajar','Pegawai','Kelas','Lab','Perpus']]\n",
    "cinamboc3= cinambo3[['Guru','Peserta Didik','Rombongan Belajar','Pegawai','Kelas','Lab','Perpus']]\n",
    "cinamboc4= cinambo4[['Guru','Peserta Didik','Rombongan Belajar','Pegawai','Kelas','Lab','Perpus']]\n",
    "\n",
    "cinambos=[cinamboc2,cinamboc3,cinamboc3,cinamboc4]\n",
    "\n",
    "cinambo_final=pd.concat(cinambos,ignore_index=True)\n",
    "#cinambo_final"
   ]
  },
  {
   "cell_type": "code",
   "execution_count": 24,
   "metadata": {},
   "outputs": [],
   "source": [
    "#Kecamatan Coblong\n",
    "coblong1=pd.read_csv('dataset_bandung/smp/coblong1.csv').rename(columns={\"Rombongan belajar\":\"Rombongan Belajar\",\"R. Kelas\": \"Kelas\", \"R. Lab\": \"Lab\", \"R. Perpus\": \"Perpus\"})\n",
    "coblong2=pd.read_csv('dataset_bandung/smp/coblong2.csv').rename(columns={\"Rombel\":\"Rombongan Belajar\",\"R. Kelas\": \"Kelas\", \"R. Lab\": \"Lab\", \"R. Perpus\": \"Perpus\"})\n",
    "coblong3=pd.read_csv('dataset_bandung/smp/coblong3.csv').rename(columns={\"R. Kelas\": \"Kelas\", \"R. Lab\": \"Lab\", \"R. Perpus\": \"Perpus\"})\n",
    "coblong4=pd.read_csv('dataset_bandung/smp/coblong4.csv').rename(columns={\"Peserta Didik \":\"Peserta Didik\",\"R. Kelas\": \"Kelas\", \"R. Lab\": \"Lab\", \"R. Perpus\": \"Perpus\"})\n",
    "\n",
    "#concat data\n",
    "coblongc1= coblong1[['Guru','Peserta Didik','Rombongan Belajar','Pegawai','Kelas','Lab','Perpus']]\n",
    "coblongc2= coblong2[['Guru','Peserta Didik','Rombongan Belajar','Pegawai','Kelas','Lab','Perpus']]\n",
    "coblongc3= coblong3[['Guru','Peserta Didik','Rombongan Belajar','Pegawai','Kelas','Lab','Perpus']]\n",
    "coblongc4= coblong4[['Guru','Peserta Didik','Rombongan Belajar','Pegawai','Kelas','Lab','Perpus']]\n",
    "\n",
    "coblongs=[coblongc2,coblongc3,coblongc3,coblongc4]\n",
    "\n",
    "coblong_final=pd.concat(coblongs,ignore_index=True)\n",
    "#coblong_final"
   ]
  },
  {
   "cell_type": "code",
   "execution_count": 25,
   "metadata": {},
   "outputs": [],
   "source": [
    "#Kecamatan Gedebage\n",
    "gedebage1=pd.read_csv('dataset_bandung/smp/gedebage1.csv').rename(columns={\"Rombongan belajar\":\"Rombongan Belajar\",\"R. Kelas\": \"Kelas\", \"R. Lab\": \"Lab\", \"R. Perpus\": \"Perpus\"})\n",
    "gedebage2=pd.read_csv('dataset_bandung/smp/gedebage2.csv').rename(columns={\"Rombel\":\"Rombongan Belajar\",\"R. Kelas\": \"Kelas\", \"R. Lab\": \"Lab\", \"R. Perpus\": \"Perpus\"})\n",
    "gedebage3=pd.read_csv('dataset_bandung/smp/gedebage3.csv').rename(columns={\"R. Kelas\": \"Kelas\", \"R. Lab\": \"Lab\", \"R. Perpus\": \"Perpus\"})\n",
    "gedebage4=pd.read_csv('dataset_bandung/smp/gedebage4.csv').rename(columns={\"Peserta Didik \":\"Peserta Didik\",\"R. Kelas\": \"Kelas\", \"R. Lab\": \"Lab\", \"R. Perpus\": \"Perpus\"})\n",
    "\n",
    "#concat data\n",
    "gedebagec1= gedebage1[['Guru','Peserta Didik','Rombongan Belajar','Pegawai','Kelas','Lab','Perpus']]\n",
    "gedebagec2= gedebage2[['Guru','Peserta Didik','Rombongan Belajar','Pegawai','Kelas','Lab','Perpus']]\n",
    "gedebagec3= gedebage3[['Guru','Peserta Didik','Rombongan Belajar','Pegawai','Kelas','Lab','Perpus']]\n",
    "gedebagec4= gedebage4[['Guru','Peserta Didik','Rombongan Belajar','Pegawai','Kelas','Lab','Perpus']]\n",
    "\n",
    "gedebages=[gedebagec2,gedebagec3,gedebagec3,gedebagec4]\n",
    "\n",
    "gedebage_final=pd.concat(gedebages,ignore_index=True)\n",
    "#gedebage_final"
   ]
  },
  {
   "cell_type": "code",
   "execution_count": 26,
   "metadata": {},
   "outputs": [],
   "source": [
    "#Kecamatan Kiaracondong\n",
    "kiaracondong1=pd.read_csv('dataset_bandung/smp/kiaracondong1.csv').rename(columns={\"Rombongan belajar\":\"Rombongan Belajar\",\"R. Kelas\": \"Kelas\", \"R. Lab\": \"Lab\", \"R. Perpus\": \"Perpus\"})\n",
    "kiaracondong2=pd.read_csv('dataset_bandung/smp/kiaracondong2.csv').rename(columns={\"Rombel\":\"Rombongan Belajar\",\"R. Kelas\": \"Kelas\", \"R. Lab\": \"Lab\", \"R. Perpus\": \"Perpus\"})\n",
    "kiaracondong3=pd.read_csv('dataset_bandung/smp/kiaracondong3.csv').rename(columns={\"R. Kelas\": \"Kelas\", \"R. Lab\": \"Lab\", \"R. Perpus\": \"Perpus\"})\n",
    "kiaracondong4=pd.read_csv('dataset_bandung/smp/kiaracondong4.csv').rename(columns={\"Peserta Didik \":\"Peserta Didik\",\"R. Kelas\": \"Kelas\", \"R. Lab\": \"Lab\", \"R. Perpus\": \"Perpus\"})\n",
    "\n",
    "#concat data\n",
    "kiaracondongc1= kiaracondong1[['Guru','Peserta Didik','Rombongan Belajar','Pegawai','Kelas','Lab','Perpus']]\n",
    "kiaracondongc2= kiaracondong2[['Guru','Peserta Didik','Rombongan Belajar','Pegawai','Kelas','Lab','Perpus']]\n",
    "kiaracondongc3= kiaracondong3[['Guru','Peserta Didik','Rombongan Belajar','Pegawai','Kelas','Lab','Perpus']]\n",
    "kiaracondongc4= kiaracondong4[['Guru','Peserta Didik','Rombongan Belajar','Pegawai','Kelas','Lab','Perpus']]\n",
    "\n",
    "kiaracondongs=[kiaracondongc2,kiaracondongc3,kiaracondongc3,kiaracondongc4]\n",
    "\n",
    "kiaracondong_final=pd.concat(kiaracondongs,ignore_index=True)\n",
    "#kiaracondong_final"
   ]
  },
  {
   "cell_type": "code",
   "execution_count": 27,
   "metadata": {},
   "outputs": [],
   "source": [
    "#Kecamatan Lengkong\n",
    "lengkong1=pd.read_csv('dataset_bandung/smp/lengkong1.csv').rename(columns={\"Rombongan belajar\":\"Rombongan Belajar\",\"R. Kelas\": \"Kelas\", \"R. Lab\": \"Lab\", \"R. Perpus\": \"Perpus\"})\n",
    "lengkong2=pd.read_csv('dataset_bandung/smp/lengkong2.csv').rename(columns={\"Rombel\":\"Rombongan Belajar\",\"R. Kelas\": \"Kelas\", \"R. Lab\": \"Lab\", \"R. Perpus\": \"Perpus\"})\n",
    "lengkong3=pd.read_csv('dataset_bandung/smp/lengkong3.csv').rename(columns={\"R. Kelas\": \"Kelas\", \"R. Lab\": \"Lab\", \"R. Perpus\": \"Perpus\"})\n",
    "lengkong4=pd.read_csv('dataset_bandung/smp/lengkong4.csv').rename(columns={\"Peserta Didik \":\"Peserta Didik\",\"R. Kelas\": \"Kelas\", \"R. Lab\": \"Lab\", \"R. Perpus\": \"Perpus\"})\n",
    "\n",
    "#concat data\n",
    "lengkongc1= lengkong1[['Guru','Peserta Didik','Rombongan Belajar','Pegawai','Kelas','Lab','Perpus']]\n",
    "lengkongc2= lengkong2[['Guru','Peserta Didik','Rombongan Belajar','Pegawai','Kelas','Lab','Perpus']]\n",
    "lengkongc3= lengkong3[['Guru','Peserta Didik','Rombongan Belajar','Pegawai','Kelas','Lab','Perpus']]\n",
    "lengkongc4= lengkong4[['Guru','Peserta Didik','Rombongan Belajar','Pegawai','Kelas','Lab','Perpus']]\n",
    "\n",
    "lengkongs=[lengkongc2,lengkongc3,lengkongc3,lengkongc4]\n",
    "\n",
    "lengkong_final=pd.concat(lengkongs,ignore_index=True)\n",
    "#lengkong_final"
   ]
  },
  {
   "cell_type": "code",
   "execution_count": 28,
   "metadata": {},
   "outputs": [],
   "source": [
    "#Kecamatan Mandalajati\n",
    "mandalajati1=pd.read_csv('dataset_bandung/smp/mandalajati1.csv').rename(columns={\"Rombongan belajar\":\"Rombongan Belajar\",\"R. Kelas\": \"Kelas\", \"R. Lab\": \"Lab\", \"R. Perpus\": \"Perpus\"})\n",
    "mandalajati2=pd.read_csv('dataset_bandung/smp/mandalajati2.csv').rename(columns={\"Rombel\":\"Rombongan Belajar\",\"R. Kelas\": \"Kelas\", \"R. Lab\": \"Lab\", \"R. Perpus\": \"Perpus\"})\n",
    "mandalajati3=pd.read_csv('dataset_bandung/smp/mandalajati3.csv').rename(columns={\"R. Kelas\": \"Kelas\", \"R. Lab\": \"Lab\", \"R. Perpus\": \"Perpus\"})\n",
    "mandalajati4=pd.read_csv('dataset_bandung/smp/mandalajati4.csv').rename(columns={\"Peserta Didik \":\"Peserta Didik\",\"R. Kelas\": \"Kelas\", \"R. Lab\": \"Lab\", \"R. Perpus\": \"Perpus\"})\n",
    "\n",
    "#concat data\n",
    "mandalajatic1= mandalajati1[['Guru','Peserta Didik','Rombongan Belajar','Pegawai','Kelas','Lab','Perpus']]\n",
    "mandalajatic2= mandalajati2[['Guru','Peserta Didik','Rombongan Belajar','Pegawai','Kelas','Lab','Perpus']]\n",
    "mandalajatic3= mandalajati3[['Guru','Peserta Didik','Rombongan Belajar','Pegawai','Kelas','Lab','Perpus']]\n",
    "mandalajatic4= mandalajati4[['Guru','Peserta Didik','Rombongan Belajar','Pegawai','Kelas','Lab','Perpus']]\n",
    "\n",
    "mandalajatis=[mandalajatic2,mandalajatic3,mandalajatic3,mandalajatic4]\n",
    "\n",
    "mandalajati_final=pd.concat(mandalajatis,ignore_index=True)\n",
    "#mandalajati_final"
   ]
  },
  {
   "cell_type": "code",
   "execution_count": 29,
   "metadata": {},
   "outputs": [],
   "source": [
    "#Kecamatan Panyileukan\n",
    "panyileukan1=pd.read_csv('dataset_bandung/smp/panyileukan1.csv').rename(columns={\"Rombongan belajar\":\"Rombongan Belajar\",\"R. Kelas\": \"Kelas\", \"R. Lab\": \"Lab\", \"R. Perpus\": \"Perpus\"})\n",
    "panyileukan2=pd.read_csv('dataset_bandung/smp/panyileukan2.csv').rename(columns={\"Rombel\":\"Rombongan Belajar\",\"R. Kelas\": \"Kelas\", \"R. Lab\": \"Lab\", \"R. Perpus\": \"Perpus\"})\n",
    "panyileukan3=pd.read_csv('dataset_bandung/smp/panyileukan3.csv').rename(columns={\"R. Kelas\": \"Kelas\", \"R. Lab\": \"Lab\", \"R. Perpus\": \"Perpus\"})\n",
    "panyileukan4=pd.read_csv('dataset_bandung/smp/panyileukan4.csv').rename(columns={\"Peserta Didik \":\"Peserta Didik\",\"R. Kelas\": \"Kelas\", \"R. Lab\": \"Lab\", \"R. Perpus\": \"Perpus\"})\n",
    "\n",
    "#concat data\n",
    "panyileukanc1= panyileukan1[['Guru','Peserta Didik','Rombongan Belajar','Pegawai','Kelas','Lab','Perpus']]\n",
    "panyileukanc2= panyileukan2[['Guru','Peserta Didik','Rombongan Belajar','Pegawai','Kelas','Lab','Perpus']]\n",
    "panyileukanc3= panyileukan3[['Guru','Peserta Didik','Rombongan Belajar','Pegawai','Kelas','Lab','Perpus']]\n",
    "panyileukanc4= panyileukan4[['Guru','Peserta Didik','Rombongan Belajar','Pegawai','Kelas','Lab','Perpus']]\n",
    "\n",
    "panyileukans=[panyileukanc2,panyileukanc3,panyileukanc3,panyileukanc4]\n",
    "\n",
    "panyileukan_final=pd.concat(panyileukans,ignore_index=True)\n",
    "#panyileukan_final"
   ]
  },
  {
   "cell_type": "code",
   "execution_count": 30,
   "metadata": {},
   "outputs": [],
   "source": [
    "#Kecamatan Rancasari\n",
    "rancasari1=pd.read_csv('dataset_bandung/smp/rancasari1.csv').rename(columns={\"Rombongan belajar\":\"Rombongan Belajar\",\"R. Kelas\": \"Kelas\", \"R. Lab\": \"Lab\", \"R. Perpus\": \"Perpus\"})\n",
    "rancasari2=pd.read_csv('dataset_bandung/smp/rancasari2.csv').rename(columns={\"Rombel\":\"Rombongan Belajar\",\"R. Kelas\": \"Kelas\", \"R. Lab\": \"Lab\", \"R. Perpus\": \"Perpus\"})\n",
    "rancasari3=pd.read_csv('dataset_bandung/smp/rancasari3.csv').rename(columns={\"R. Kelas\": \"Kelas\", \"R. Lab\": \"Lab\", \"R. Perpus\": \"Perpus\"})\n",
    "rancasari4=pd.read_csv('dataset_bandung/smp/rancasari4.csv').rename(columns={\"Peserta Didik \":\"Peserta Didik\",\"R. Kelas\": \"Kelas\", \"R. Lab\": \"Lab\", \"R. Perpus\": \"Perpus\"})\n",
    "\n",
    "#concat data\n",
    "rancasaric1= rancasari1[['Guru','Peserta Didik','Rombongan Belajar','Pegawai','Kelas','Lab','Perpus']]\n",
    "rancasaric2= rancasari2[['Guru','Peserta Didik','Rombongan Belajar','Pegawai','Kelas','Lab','Perpus']]\n",
    "rancasaric3= rancasari3[['Guru','Peserta Didik','Rombongan Belajar','Pegawai','Kelas','Lab','Perpus']]\n",
    "rancasaric4= rancasari4[['Guru','Peserta Didik','Rombongan Belajar','Pegawai','Kelas','Lab','Perpus']]\n",
    "\n",
    "rancasaris=[rancasaric2,rancasaric3,rancasaric3,rancasaric4]\n",
    "\n",
    "rancasari_final=pd.concat(rancasaris,ignore_index=True)\n",
    "#rancasari_final"
   ]
  },
  {
   "cell_type": "code",
   "execution_count": 31,
   "metadata": {},
   "outputs": [],
   "source": [
    "#Kecamatan regol\n",
    "regol1=pd.read_csv('dataset_bandung/smp/regol1.csv').rename(columns={\"Rombongan belajar\":\"Rombongan Belajar\",\"R. Kelas\": \"Kelas\", \"R. Lab\": \"Lab\", \"R. Perpus\": \"Perpus\"})\n",
    "regol2=pd.read_csv('dataset_bandung/smp/regol2.csv').rename(columns={\"Rombel\":\"Rombongan Belajar\",\"R. Kelas\": \"Kelas\", \"R. Lab\": \"Lab\", \"R. Perpus\": \"Perpus\"})\n",
    "regol3=pd.read_csv('dataset_bandung/smp/regol3.csv').rename(columns={\"R. Kelas\": \"Kelas\", \"R. Lab\": \"Lab\", \"R. Perpus\": \"Perpus\"})\n",
    "regol4=pd.read_csv('dataset_bandung/smp/regol4.csv').rename(columns={\"Peserta Didik \":\"Peserta Didik\",\"R. Kelas\": \"Kelas\", \"R. Lab\": \"Lab\", \"R. Perpus\": \"Perpus\"})\n",
    "\n",
    "#concat data\n",
    "regolc1= regol1[['Guru','Peserta Didik','Rombongan Belajar','Pegawai','Kelas','Lab','Perpus']]\n",
    "regolc2= regol2[['Guru','Peserta Didik','Rombongan Belajar','Pegawai','Kelas','Lab','Perpus']]\n",
    "regolc3= regol3[['Guru','Peserta Didik','Rombongan Belajar','Pegawai','Kelas','Lab','Perpus']]\n",
    "regolc4= regol4[['Guru','Peserta Didik','Rombongan Belajar','Pegawai','Kelas','Lab','Perpus']]\n",
    "\n",
    "regols=[regolc2,regolc3,regolc3,regolc4]\n",
    "\n",
    "regol_final=pd.concat(regols,ignore_index=True)\n",
    "#regol_final\n",
    "\n"
   ]
  },
  {
   "cell_type": "code",
   "execution_count": 32,
   "metadata": {},
   "outputs": [],
   "source": [
    "#Kecamatan sukajadi\n",
    "sukajadi1=pd.read_csv('dataset_bandung/smp/sukajadi1.csv').rename(columns={\"Rombongan belajar\":\"Rombongan Belajar\",\"R. Kelas\": \"Kelas\", \"R. Lab\": \"Lab\", \"R. Perpus\": \"Perpus\"})\n",
    "sukajadi2=pd.read_csv('dataset_bandung/smp/sukajadi2.csv').rename(columns={\"Rombel\":\"Rombongan Belajar\",\"R. Kelas\": \"Kelas\", \"R. Lab\": \"Lab\", \"R. Perpus\": \"Perpus\"})\n",
    "sukajadi3=pd.read_csv('dataset_bandung/smp/sukajadi3.csv').rename(columns={\"R. Kelas\": \"Kelas\", \"R. Lab\": \"Lab\", \"R. Perpus\": \"Perpus\"})\n",
    "sukajadi4=pd.read_csv('dataset_bandung/smp/sukajadi4.csv').rename(columns={\"Peserta Didik \":\"Peserta Didik\",\"R. Kelas\": \"Kelas\", \"R. Lab\": \"Lab\", \"R. Perpus\": \"Perpus\"})\n",
    "\n",
    "#concat data\n",
    "sukajadic1= sukajadi1[['Guru','Peserta Didik','Rombongan Belajar','Pegawai','Kelas','Lab','Perpus']]\n",
    "sukajadic2= sukajadi2[['Guru','Peserta Didik','Rombongan Belajar','Pegawai','Kelas','Lab','Perpus']]\n",
    "sukajadic3= sukajadi3[['Guru','Peserta Didik','Rombongan Belajar','Pegawai','Kelas','Lab','Perpus']]\n",
    "sukajadic4= sukajadi4[['Guru','Peserta Didik','Rombongan Belajar','Pegawai','Kelas','Lab','Perpus']]\n",
    "\n",
    "sukajadis=[sukajadic2,sukajadic3,sukajadic3,sukajadic4]\n",
    "\n",
    "sukajadi_final=pd.concat(sukajadis,ignore_index=True)\n",
    "#sukajadi_final"
   ]
  },
  {
   "cell_type": "code",
   "execution_count": 33,
   "metadata": {},
   "outputs": [],
   "source": [
    "#Kecamatan sukasari\n",
    "sukasari1=pd.read_csv('dataset_bandung/smp/sukasari1.csv').rename(columns={\"Rombongan belajar\":\"Rombongan Belajar\",\"R. Kelas\": \"Kelas\", \"R. Lab\": \"Lab\", \"R. Perpus\": \"Perpus\"})\n",
    "sukasari2=pd.read_csv('dataset_bandung/smp/sukasari2.csv').rename(columns={\"Rombel\":\"Rombongan Belajar\",\"R. Kelas\": \"Kelas\", \"R. Lab\": \"Lab\", \"R. Perpus\": \"Perpus\"})\n",
    "sukasari3=pd.read_csv('dataset_bandung/smp/sukasari3.csv').rename(columns={\"R. Kelas\": \"Kelas\", \"R. Lab\": \"Lab\", \"R. Perpus\": \"Perpus\"})\n",
    "sukasari4=pd.read_csv('dataset_bandung/smp/sukasari4.csv').rename(columns={\"Peserta Didik \":\"Peserta Didik\",\"R. Kelas\": \"Kelas\", \"R. Lab\": \"Lab\", \"R. Perpus\": \"Perpus\"})\n",
    "\n",
    "#concat data\n",
    "sukasaric1= sukasari1[['Guru','Peserta Didik','Rombongan Belajar','Pegawai','Kelas','Lab','Perpus']]\n",
    "sukasaric2= sukasari2[['Guru','Peserta Didik','Rombongan Belajar','Pegawai','Kelas','Lab','Perpus']]\n",
    "sukasaric3= sukasari3[['Guru','Peserta Didik','Rombongan Belajar','Pegawai','Kelas','Lab','Perpus']]\n",
    "sukasaric4= sukasari4[['Guru','Peserta Didik','Rombongan Belajar','Pegawai','Kelas','Lab','Perpus']]\n",
    "\n",
    "sukasaris=[sukasaric2,sukasaric3,sukasaric3,sukasaric4]\n",
    "\n",
    "sukasari_final=pd.concat(sukasaris,ignore_index=True)\n",
    "#sukasari_final"
   ]
  },
  {
   "cell_type": "code",
   "execution_count": 34,
   "metadata": {},
   "outputs": [],
   "source": [
    "#Kecamatan sumur_bandung\n",
    "sumur_bandung1=pd.read_csv('dataset_bandung/smp/sumur_bandung1.csv').rename(columns={\"Rombongan belajar\":\"Rombongan Belajar\",\"R. Kelas\": \"Kelas\", \"R. Lab\": \"Lab\", \"R. Perpus\": \"Perpus\"})\n",
    "sumur_bandung2=pd.read_csv('dataset_bandung/smp/sumur_bandung2.csv').rename(columns={\"Rombel\":\"Rombongan Belajar\",\"R. Kelas\": \"Kelas\", \"R. Lab\": \"Lab\", \"R. Perpus\": \"Perpus\"})\n",
    "sumur_bandung3=pd.read_csv('dataset_bandung/smp/sumur_bandung3.csv').rename(columns={\"R. Kelas\": \"Kelas\", \"R. Lab\": \"Lab\", \"R. Perpus\": \"Perpus\"})\n",
    "sumur_bandung4=pd.read_csv('dataset_bandung/smp/sumur_bandung4.csv').rename(columns={\"Peserta Didik \":\"Peserta Didik\",\"R. Kelas\": \"Kelas\", \"R. Lab\": \"Lab\", \"R. Perpus\": \"Perpus\"})\n",
    "\n",
    "#concat data\n",
    "sumur_bandungc1= sumur_bandung1[['Guru','Peserta Didik','Rombongan Belajar','Pegawai','Kelas','Lab','Perpus']]\n",
    "sumur_bandungc2= sumur_bandung2[['Guru','Peserta Didik','Rombongan Belajar','Pegawai','Kelas','Lab','Perpus']]\n",
    "sumur_bandungc3= sumur_bandung3[['Guru','Peserta Didik','Rombongan Belajar','Pegawai','Kelas','Lab','Perpus']]\n",
    "sumur_bandungc4= sumur_bandung4[['Guru','Peserta Didik','Rombongan Belajar','Pegawai','Kelas','Lab','Perpus']]\n",
    "\n",
    "sumur_bandungs=[sumur_bandungc2,sumur_bandungc3,sumur_bandungc3,sumur_bandungc4]\n",
    "\n",
    "sumur_bandung_final=pd.concat(sumur_bandungs,ignore_index=True)\n",
    "#sumur_bandung_final"
   ]
  },
  {
   "cell_type": "code",
   "execution_count": null,
   "metadata": {},
   "outputs": [],
   "source": []
  },
  {
   "cell_type": "code",
   "execution_count": 35,
   "metadata": {},
   "outputs": [
    {
     "name": "stdout",
     "output_type": "stream",
     "text": [
      "<class 'pandas.core.frame.DataFrame'>\n",
      "RangeIndex: 631 entries, 0 to 630\n",
      "Data columns (total 7 columns):\n",
      "Guru                 631 non-null int64\n",
      "Peserta Didik        631 non-null float64\n",
      "Rombongan Belajar    631 non-null int64\n",
      "Pegawai              631 non-null int64\n",
      "Kelas                631 non-null int64\n",
      "Lab                  631 non-null int64\n",
      "Perpus               631 non-null int64\n",
      "dtypes: float64(1), int64(6)\n",
      "memory usage: 34.6 KB\n"
     ]
    }
   ],
   "source": [
    "#SEMUA KECAMATAN\n",
    "smp_bandungs = [babakan_final,bkidul_final,bkulon_final,bojongkaler_final,bojongkidul_final,bwetan_final,cikaler_final,cikidul_final,cidadap_final,cinambo_final,coblong_final,gedebage_final,kiaracondong_final,lengkong_final,mandalajati_final,panyileukan_final,rancasari_final,regol_final,sukajadi_final,sukasari_final,sumur_bandung_final]\n",
    "data_smp_bandung=pd.concat(smp_bandungs, ignore_index=True)\n",
    "data_smp_bandung.info()"
   ]
  },
  {
   "cell_type": "code",
   "execution_count": 36,
   "metadata": {},
   "outputs": [],
   "source": [
    "#analisa kuantitatif\n",
    "#mean_smp_bandung = data_smp_bandung.mean()\n",
    "#median_smp_bandung = data_smp_bandung.median()\n",
    "#std_smp_bandung = data_smp_bandung.std()"
   ]
  },
  {
   "cell_type": "code",
   "execution_count": 37,
   "metadata": {},
   "outputs": [
    {
     "data": {
      "image/png": "[encoded data removed]",
      "text/plain": [
       "<Figure size 432x288 with 2 Axes>"
      ]
     },
     "metadata": {
      "needs_background": "light"
     },
     "output_type": "display_data"
    }
   ],
   "source": [
    "#mencari korelasi semua smp di kecamatan di bandung\n",
    "\n",
    "corr = data_smp_bandung.corr()\n",
    "fig = plt.figure()\n",
    "ax = fig.add_subplot(111)\n",
    "cax = ax.matshow(corr,cmap='coolwarm', vmin=-1, vmax=1)\n",
    "fig.colorbar(cax)\n",
    "ticks = np.arange(0,len(data_smp_bandung.columns),1)\n",
    "ax.set_xticks(ticks)\n",
    "plt.xticks(rotation=90)\n",
    "ax.set_yticks(ticks)\n",
    "ax.set_xticklabels(data_smp_bandung.columns)\n",
    "ax.set_yticklabels(data_smp_bandung.columns)\n",
    "plt.show()"
   ]
  },
  {
   "cell_type": "markdown",
   "metadata": {},
   "source": [
    "pada grafik diatas menunjukkan grafik warna yang memiliki nilai -1 sampai dengan 1 pada gradasi biru sampai dengan merah tua. pada nilai yang mendekati 1 atau merah tua menunjukkan adanya korelasi antara variabel yang ada. \n",
    "\n"
   ]
  },
  {
   "cell_type": "markdown",
   "metadata": {},
   "source": [
    "scatterplot pada top variabel kuat"
   ]
  },
  {
   "cell_type": "code",
   "execution_count": 38,
   "metadata": {},
   "outputs": [
    {
     "data": {
      "text/plain": [
       "<matplotlib.axes._subplots.AxesSubplot at 0x1bfee9489e8>"
      ]
     },
     "execution_count": 38,
     "metadata": {},
     "output_type": "execute_result"
    },
    {
     "data": {
      "image/png": "[encoded data removed]",
      "text/plain": [
       "<Figure size 432x288 with 1 Axes>"
      ]
     },
     "metadata": {
      "needs_background": "light"
     },
     "output_type": "display_data"
    }
   ],
   "source": [
    "data_smp_bandung.plot.scatter(x=\"Guru\", y=\"Peserta Didik\")"
   ]
  },
  {
   "cell_type": "code",
   "execution_count": 39,
   "metadata": {},
   "outputs": [
    {
     "data": {
      "text/plain": [
       "<matplotlib.axes._subplots.AxesSubplot at 0x1bfeeef3470>"
      ]
     },
     "execution_count": 39,
     "metadata": {},
     "output_type": "execute_result"
    },
    {
     "data": {
      "image/png": "[encoded data removed]",
      "text/plain": [
       "<Figure size 432x288 with 1 Axes>"
      ]
     },
     "metadata": {
      "needs_background": "light"
     },
     "output_type": "display_data"
    }
   ],
   "source": [
    "data_smp_bandung.plot.scatter(x=\"Guru\", y=\"Rombongan Belajar\")"
   ]
  },
  {
   "cell_type": "code",
   "execution_count": 45,
   "metadata": {},
   "outputs": [
    {
     "data": {
      "text/plain": [
       "<matplotlib.axes._subplots.AxesSubplot at 0x1bfeefae9b0>"
      ]
     },
     "execution_count": 45,
     "metadata": {},
     "output_type": "execute_result"
    },
    {
     "data": {
      "image/png": "[encoded data removed]",
      "text/plain": [
       "<Figure size 432x288 with 1 Axes>"
      ]
     },
     "metadata": {
      "needs_background": "light"
     },
     "output_type": "display_data"
    }
   ],
   "source": [
    "data_smp_bandung.plot.scatter(x=\"Rombongan Belajar\", y=\"Peserta Didik\")"
   ]
  },
  {
   "cell_type": "code",
   "execution_count": null,
   "metadata": {},
   "outputs": [],
   "source": []
  }
 ],
 "metadata": {
  "kernelspec": {
   "display_name": "Python 3",
   "language": "python",
   "name": "python3"
  },
  "language_info": {
   "codemirror_mode": {
    "name": "ipython",
    "version": 3
   },
   "file_extension": ".py",
   "mimetype": "text/x-python",
   "name": "python",
   "nbconvert_exporter": "python",
   "pygments_lexer": "ipython3",
   "version": "3.7.3"
  }
 },
 "nbformat": 4,
 "nbformat_minor": 2
}
