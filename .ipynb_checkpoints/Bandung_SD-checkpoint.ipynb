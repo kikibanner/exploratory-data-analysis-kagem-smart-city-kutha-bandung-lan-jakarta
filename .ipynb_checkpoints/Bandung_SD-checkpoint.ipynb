{
 "cells": [
  {
   "cell_type": "markdown",
   "metadata": {},
   "source": [
    "# Data SD Bandung"
   ]
  },
  {
   "cell_type": "code",
   "execution_count": 1,
   "metadata": {},
   "outputs": [],
   "source": [
    "import pandas as pd\n",
    "import matplotlib.pyplot as plt\n",
    "#from functools import reduce\n",
    "import numpy as np"
   ]
  },
  {
   "cell_type": "markdown",
   "metadata": {},
   "source": [
    "# SD"
   ]
  },
  {
   "cell_type": "markdown",
   "metadata": {},
   "source": [
    "Load dan Cleansing Data"
   ]
  },
  {
   "cell_type": "code",
   "execution_count": 65,
   "metadata": {},
   "outputs": [],
   "source": [
    "#KECAMATAN ANDIR\n",
    "andir1= pd.read_csv('dataset_bandung/sd/andir1.csv').rename(columns={\"R. Kelas\": \"Kelas\", \"R. Lab\": \"Lab\", \"R. Perpus\": \"Perpus\"})\n",
    "andir2 = pd.read_csv('dataset_bandung/sd/andir2.csv').rename(columns={\"Rombel\":\"Rombongan Belajar\",\"Ruang Kelas\": \"Kelas\", \"Ruang Lab\": \"Lab\", \"Ruang Perpus\": \"Perpus\"})\n",
    "andir3 = pd.read_csv('dataset_bandung/sd/andir3.csv').rename(columns={\"Peserta Didik \":\"Peserta Didik\",\"R. Kelas\": \"Kelas\", \"R. Lab\": \"Lab\", \"R. Perpus\": \"Perpus\"})\n",
    "andir4 = pd.read_csv('dataset_bandung/sd/andir4.csv').rename(columns={\"R. Kelas\": \"Kelas\", \"R. Lab\": \"Lab\", \"R. Perpus\": \"Perpus\"})\n",
    "\n",
    "#concat data\n",
    "andirc1= andir1[['Guru','Peserta Didik','Rombongan Belajar','Pegawai','Kelas','Lab','Perpus']]\n",
    "andirc2= andir2[['Guru','Peserta Didik','Rombongan Belajar','Pegawai','Kelas','Lab','Perpus']]\n",
    "andirc3= andir3[['Guru','Peserta Didik','Rombongan Belajar','Pegawai','Kelas','Lab','Perpus']]\n",
    "andirc4= andir4[['Guru','Peserta Didik','Rombongan Belajar','Pegawai','Kelas','Lab','Perpus']]\n",
    "\n",
    "andirs = [andirc1, andirc2,andirc3, andirc4]\n",
    "\n",
    "andir_final = pd.concat(andirs,ignore_index=True)\n",
    "#andir_final\n"
   ]
  },
  {
   "cell_type": "markdown",
   "metadata": {},
   "source": []
  },
  {
   "cell_type": "code",
   "execution_count": 66,
   "metadata": {},
   "outputs": [],
   "source": [
    "#KECAMATAN ANTAPANI\n",
    "antapani1=pd.read_csv('dataset_bandung/sd/antapani1.csv').rename(columns={\"Rombel\":\"Rombongan Belajar\",\"R. Kelas\": \"Kelas\", \"R. Lab\": \"Lab\", \"R. Perpus\": \"Perpus\"})\n",
    "antapani2=pd.read_csv('dataset_bandung/sd/antapani2.csv').rename(columns={\"Rombel\":\"Rombongan Belajar\",\"R. Kelas\": \"Kelas\", \"R. Lab\": \"Lab\", \"R. Perpus\": \"Perpus\"})\n",
    "antapani3=pd.read_csv('dataset_bandung/sd/antapani3.csv').rename(columns={\"R. Kelas\": \"Kelas\", \"R. Lab\": \"Lab\", \"R. Perpus\": \"Perpus\"})\n",
    "antapani4=pd.read_csv('dataset_bandung/sd/antapani4.csv').rename(columns={\"R. Kelas\": \"Kelas\", \"R. Lab\": \"Lab\", \"R. Perpus\": \"Perpus\"})\n",
    "\n",
    "#concat data\n",
    "antapanic1=antapani1[['Guru','Peserta Didik','Rombongan Belajar','Pegawai','Kelas','Lab','Perpus']]\n",
    "antapanic2=antapani2[['Guru','Peserta Didik','Rombongan Belajar','Pegawai','Kelas','Lab','Perpus']]\n",
    "antapanic3=antapani3[['Guru','Peserta Didik','Rombongan Belajar','Pegawai','Kelas','Lab','Perpus']]\n",
    "antapanic4=antapani4[['Guru','Peserta Didik','Rombongan Belajar','Pegawai','Kelas','Lab','Perpus']]\n",
    "\n",
    "antapanis = [antapanic1, antapanic2, antapanic3, antapanic4]\n",
    "\n",
    "antapani_final = pd.concat(antapanis,ignore_index=True)\n",
    "\n",
    "#antapani_final\n"
   ]
  },
  {
   "cell_type": "markdown",
   "metadata": {},
   "source": []
  },
  {
   "cell_type": "code",
   "execution_count": 67,
   "metadata": {},
   "outputs": [],
   "source": [
    "#KECAMATAN ARCAMANIK\n",
    "arcamanik1=pd.read_csv('dataset_bandung/sd/arcamanik1.csv').rename(columns={\"Rombel\":\"Rombongan Belajar\", \"R. Kelas\": \"Kelas\", \"R. Lab\": \"Lab\", \"R. Perpus\": \"Perpus\"}) \n",
    "arcamanik3=pd.read_csv('dataset_bandung/sd/arcamanik3.csv').rename(columns={\"R. Kelas\": \"Kelas\", \"R. Lab\": \"Lab\", \"R. Perpus\": \"Perpus\"}) \n",
    "arcamanik4=pd.read_csv('dataset_bandung/sd/arcamanik4.csv').rename(columns={\"R. Kelas\": \"Kelas\", \"R. Lab\": \"Lab\", \"R. Perpus\": \"Perpus\"}) \n",
    "\n",
    "#menghandle kolom yang tidak ada (peserta didik) di data 2 kecamatan arcamanik \n",
    "arcamanik2=pd.read_csv('dataset_bandung/sd/arcamanik2.csv').rename(columns={\"Rombel\":\"Rombongan Belajar\",\"R. Kelas\": \"Kelas\", \"R. Lab\": \"Lab\", \"R. Perpus\": \"Perpus\"})\n",
    "#concat data\n",
    "arcamanikc1=arcamanik1[['Guru','Peserta Didik','Rombongan Belajar','Pegawai','Kelas','Lab','Perpus']]\n",
    "arcamanikc3=arcamanik3[['Guru','Peserta Didik','Rombongan Belajar','Pegawai','Kelas','Lab','Perpus']]\n",
    "arcamanikc4=arcamanik4[['Guru','Peserta Didik','Rombongan Belajar','Pegawai','Kelas','Lab','Perpus']]\n",
    "\n",
    "arcamaniks_sementara = [arcamanikc1, arcamanikc3, arcamanikc4]\n",
    "\n",
    "arcamanik_concat_sementara = pd.concat(arcamaniks_sementara,ignore_index=True)\n",
    "\n",
    "rerata_peserta_didik_arcamanik = arcamanik_concat_sementara['Peserta Didik'].mean()\n",
    "arcamanik2['Peserta Didik'] = rerata_peserta_didik_arcamanik\n",
    "arcamanikc2=arcamanik2[['Guru','Peserta Didik','Rombongan Belajar','Pegawai','Kelas','Lab','Perpus']]\n",
    "\n",
    "arcamaniks = [arcamanikc2,arcamanik_concat_sementara]\n",
    "arcamanik_final = pd.concat(arcamaniks,ignore_index=True)\n"
   ]
  },
  {
   "cell_type": "markdown",
   "metadata": {},
   "source": []
  },
  {
   "cell_type": "code",
   "execution_count": 68,
   "metadata": {},
   "outputs": [],
   "source": [
    "#KECAMATAN ASTAANYAR\n",
    "astaanyar1 = pd.read_csv('dataset_bandung/sd/astaanyar1.csv').rename(columns={\"Rombel\":\"Rombongan Belajar\",\"R. Kelas\": \"Kelas\", \"R. Lab\": \"Lab\", \"R. Perpus\": \"Perpus\"})\n",
    "astaanyar2 = pd.read_csv('dataset_bandung/sd/astaanyar2.csv').rename(columns={\"Rombel\":\"Rombongan Belajar\",\"R. Kelas\": \"Kelas\", \"R. Lab\": \"Lab\", \"R. Perpus\": \"Perpus\"})\n",
    "astaanyar3 = pd.read_csv('dataset_bandung/sd/astaanyar3.csv').rename(columns={\"R. Kelas\": \"Kelas\", \"R. Lab\": \"Lab\", \"R. Perpus\": \"Perpus\"})\n",
    "astaanyar4 = pd.read_csv('dataset_bandung/sd/astaanyar4.csv').rename(columns={\"R. Kelas\": \"Kelas\", \"R. Lab\": \"Lab\", \"R. Perpus\": \"Perpus\"})\n",
    "\n",
    "#concat data\n",
    "astaanyarc1=astaanyar1[['Guru','Peserta Didik','Rombongan Belajar','Pegawai','Kelas','Lab','Perpus']]\n",
    "astaanyarc2=astaanyar2[['Guru','Peserta Didik','Rombongan Belajar','Pegawai','Kelas','Lab','Perpus']]\n",
    "astaanyarc3=astaanyar3[['Guru','Peserta Didik','Rombongan Belajar','Pegawai','Kelas','Lab','Perpus']]\n",
    "astaanyarc4=astaanyar4[['Guru','Peserta Didik','Rombongan Belajar','Pegawai','Kelas','Lab','Perpus']]\n",
    "\n",
    "astaanyars = [astaanyarc1, astaanyarc2, astaanyarc3, astaanyarc4]\n",
    "\n",
    "astaanyar_final = pd.concat(antapanis,ignore_index=True)\n",
    "\n",
    "\n"
   ]
  },
  {
   "cell_type": "markdown",
   "metadata": {},
   "source": []
  },
  {
   "cell_type": "code",
   "execution_count": 69,
   "metadata": {},
   "outputs": [],
   "source": [
    "#KECAMATAN BATUNUNGAL\n",
    "batununggal1 = pd.read_csv('dataset_bandung/sd/batununggal1.csv').rename(columns={\"Rombel\":\"Rombongan Belajar\",\"R. Kelas\": \"Kelas\", \"R. Lab\": \"Lab\", \"R. Perpus\": \"Perpus\"})\n",
    "batununggal2 = pd.read_csv('dataset_bandung/sd/batununggal2.csv').rename(columns={\"Rombel\":\"Rombongan Belajar\",\"R. Kelas\": \"Kelas\", \"R. Lab\": \"Lab\", \"R. Perpus\": \"Perpus\"})\n",
    "batununggal3 = pd.read_csv('dataset_bandung/sd/batununggal3.csv').rename(columns={\"R. Kelas\": \"Kelas\", \"R. Lab\": \"Lab\", \"R. Perpus\": \"Perpus\"})\n",
    "batununggal4 = pd.read_csv('dataset_bandung/sd/batununggal4.csv').rename(columns={\"R. Kelas\": \"Kelas\", \"R. Lab\": \"Lab\", \"R. Perpus\": \"Perpus\"})\n",
    "\n",
    "#concat data\n",
    "batununggalc1=batununggal1[['Guru','Peserta Didik','Rombongan Belajar','Pegawai','Kelas','Lab','Perpus']]\n",
    "batununggalc2=batununggal2[['Guru','Peserta Didik','Rombongan Belajar','Pegawai','Kelas','Lab','Perpus']]\n",
    "batununggalc3=batununggal3[['Guru','Peserta Didik','Rombongan Belajar','Pegawai','Kelas','Lab','Perpus']]\n",
    "batununggalc4=batununggal4[['Guru','Peserta Didik','Rombongan Belajar','Pegawai','Kelas','Lab','Perpus']]\n",
    "\n",
    "batununggals = [batununggalc1, batununggalc2, batununggalc3, batununggalc4]\n",
    "\n",
    "batununggal_final = pd.concat(batununggals,ignore_index=True)\n",
    "\n"
   ]
  },
  {
   "cell_type": "markdown",
   "metadata": {},
   "source": []
  },
  {
   "cell_type": "code",
   "execution_count": 70,
   "metadata": {},
   "outputs": [],
   "source": [
    "#KECAMATAN BANDUNG KIDUL\n",
    "bkidul1 = pd.read_csv('dataset_bandung/sd/bkidul1.csv').rename(columns={\"Rombel\":\"Rombongan Belajar\",\"R. Kelas\": \"Kelas\", \"R. Lab\": \"Lab\", \"R. Perpus\": \"Perpus\"})\n",
    "bkidul2 = pd.read_csv('dataset_bandung/sd/bkidul2.csv').rename(columns={\"Rombel\":\"Rombongan Belajar\",\"R. Kelas\": \"Kelas\", \"R. Lab\": \"Lab\", \"R. Perpus\": \"Perpus\"})\n",
    "bkidul3 = pd.read_csv('dataset_bandung/sd/bkidul3.csv').rename(columns={\"R. Kelas\": \"Kelas\", \"R. Lab\": \"Lab\", \"R. Perpus\": \"Perpus\"})\n",
    "bkidul4 = pd.read_csv('dataset_bandung/sd/bkidul4.csv').rename(columns={\"R. Kelas\": \"Kelas\", \"R. Lab\": \"Lab\", \"R. Perpus\": \"Perpus\"})\n",
    "\n",
    "#concat data\n",
    "bkidulc1=bkidul1[['Guru','Peserta Didik','Rombongan Belajar','Pegawai','Kelas','Lab','Perpus']]\n",
    "bkidulc2=bkidul2[['Guru','Peserta Didik','Rombongan Belajar','Pegawai','Kelas','Lab','Perpus']]\n",
    "bkidulc3=bkidul3[['Guru','Peserta Didik','Rombongan Belajar','Pegawai','Kelas','Lab','Perpus']]\n",
    "bkidulc4=bkidul4[['Guru','Peserta Didik','Rombongan Belajar','Pegawai','Kelas','Lab','Perpus']]\n",
    "\n",
    "bkiduls = [bkidulc1, bkidulc2, bkidulc3, bkidulc4]\n",
    "\n",
    "bkidul_final = pd.concat(bkiduls,ignore_index=True)\n",
    "\n"
   ]
  },
  {
   "cell_type": "markdown",
   "metadata": {},
   "source": []
  },
  {
   "cell_type": "code",
   "execution_count": 71,
   "metadata": {},
   "outputs": [],
   "source": [
    "#KECAMATAN BANDUNG KULON\n",
    "bkulon1 = pd.read_csv('dataset_bandung/sd/bkulon1.csv').rename(columns={\"Rombel\":\"Rombongan Belajar\",\"R. Kelas\": \"Kelas\", \"R. Lab\": \"Lab\", \"R. Perpus\": \"Perpus\"})\n",
    "bkulon2 = pd.read_csv('dataset_bandung/sd/bkulon2.csv').rename(columns={\"Rombel\":\"Rombongan Belajar\",\"R. Kelas\": \"Kelas\", \"R. Lab\": \"Lab\", \"R. Perpus\": \"Perpus\"})\n",
    "bkulon3 = pd.read_csv('dataset_bandung/sd/bkulon3.csv').rename(columns={\"R. Kelas\": \"Kelas\", \"R. Lab\": \"Lab\", \"R. Perpus\": \"Perpus\"})\n",
    "bkulon4 = pd.read_csv('dataset_bandung/sd/bkulon4.csv').rename(columns={\"R. Kelas\": \"Kelas\", \"R. Lab\": \"Lab\", \"R. Perpus\": \"Perpus\"})\n",
    "\n",
    "#concat data\n",
    "bkulonc1=bkulon1[['Guru','Peserta Didik','Rombongan Belajar','Pegawai','Kelas','Lab','Perpus']]\n",
    "bkulonc2=bkulon2[['Guru','Peserta Didik','Rombongan Belajar','Pegawai','Kelas','Lab','Perpus']]\n",
    "bkulonc3=bkulon3[['Guru','Peserta Didik','Rombongan Belajar','Pegawai','Kelas','Lab','Perpus']]\n",
    "bkulonc4=bkulon4[['Guru','Peserta Didik','Rombongan Belajar','Pegawai','Kelas','Lab','Perpus']]\n",
    "\n",
    "bkulons = [bkulonc1, bkulonc2, bkulonc3, bkulonc4]\n",
    "\n",
    "bkulon_final = pd.concat(bkulons,ignore_index=True)\n",
    "\n"
   ]
  },
  {
   "cell_type": "markdown",
   "metadata": {},
   "source": []
  },
  {
   "cell_type": "code",
   "execution_count": 72,
   "metadata": {},
   "outputs": [],
   "source": [
    "#KECAMATAN BOJONGLOA KALER\n",
    "bojongloa1 = pd.read_csv('dataset_bandung/sd/bojongloa_kaler1.csv').rename(columns={\"Rombel\":\"Rombongan Belajar\",\"R. Kelas\": \"Kelas\", \"R. Lab\": \"Lab\", \"R. Perpus\": \"Perpus\"})\n",
    "bojongloa2 = pd.read_csv('dataset_bandung/sd/bojongloa_kaler2.csv').rename(columns={\"Rombel\":\"Rombongan Belajar\",\"R. Kelas\": \"Kelas\", \"R. Lab\": \"Lab\", \"R. Perpus\": \"Perpus\"})\n",
    "bojongloa3 = pd.read_csv('dataset_bandung/sd/bojongloa_kaler3.csv').rename(columns={\"R. Kelas\": \"Kelas\", \"R. Lab\": \"Lab\", \"R. Perpus\": \"Perpus\"})\n",
    "bojongloa4 = pd.read_csv('dataset_bandung/sd/bojongloa_kaler4.csv').rename(columns={\"R. Kelas\": \"Kelas\", \"R. Lab\": \"Lab\", \"R. Perpus\": \"Perpus\"})\n",
    "\n",
    "#concat data\n",
    "bojongloac1=bojongloa1[['Guru','Peserta Didik','Rombongan Belajar','Pegawai','Kelas','Lab','Perpus']]\n",
    "bojongloac2=bojongloa2[['Guru','Peserta Didik','Rombongan Belajar','Pegawai','Kelas','Lab','Perpus']]\n",
    "bojongloac3=bojongloa3[['Guru','Peserta Didik','Rombongan Belajar','Pegawai','Kelas','Lab','Perpus']]\n",
    "bojongloac4=bojongloa4[['Guru','Peserta Didik','Rombongan Belajar','Pegawai','Kelas','Lab','Perpus']]\n",
    "\n",
    "bojongloas = [bojongloac1, bojongloac2, bojongloac3, bojongloac4]\n",
    "\n",
    "bojongloa_final = pd.concat(bojongloas,ignore_index=True)\n",
    "\n",
    "\n"
   ]
  },
  {
   "cell_type": "markdown",
   "metadata": {},
   "source": []
  },
  {
   "cell_type": "code",
   "execution_count": 73,
   "metadata": {},
   "outputs": [],
   "source": [
    "#KECAMATAN BUAH BATU\n",
    "\n",
    "buahbatu1 = pd.read_csv('dataset_bandung/sd/buahbatu1.csv').rename(columns={\"Rombel\":\"Rombongan Belajar\",\"R. Kelas\": \"Kelas\", \"R. Lab\": \"Lab\", \"R. Perpus\": \"Perpus\"})\n",
    "buahbatu2 = pd.read_csv('dataset_bandung/sd/buahbatu2.csv').rename(columns={\"Rombel\":\"Rombongan Belajar\",\"R. Kelas\": \"Kelas\", \"R. Lab\": \"Lab\", \"R. Perpus\": \"Perpus\"})\n",
    "buahbatu3 = pd.read_csv('dataset_bandung/sd/buahbatu3.csv').rename(columns={\"R. Kelas\": \"Kelas\", \"R. Lab\": \"Lab\", \"R. Perpus\": \"Perpus\"})\n",
    "buahbatu4 = pd.read_csv('dataset_bandung/sd/buahbatu4.csv').rename(columns={\"R. Kelas\": \"Kelas\", \"R. Lab\": \"Lab\", \"R. Perpus\": \"Perpus\"})\n",
    "\n",
    "#concat data\n",
    "buahbatuc1=buahbatu1[['Guru','Peserta Didik','Rombongan Belajar','Pegawai','Kelas','Lab','Perpus']]\n",
    "buahbatuc2=buahbatu2[['Guru','Peserta Didik','Rombongan Belajar','Pegawai','Kelas','Lab','Perpus']]\n",
    "buahbatuc3=buahbatu3[['Guru','Peserta Didik','Rombongan Belajar','Pegawai','Kelas','Lab','Perpus']]\n",
    "buahbatuc4=buahbatu4[['Guru','Peserta Didik','Rombongan Belajar','Pegawai','Kelas','Lab','Perpus']]\n",
    "\n",
    "buahbatus = [buahbatuc1, buahbatuc2, buahbatuc3, buahbatuc4]\n",
    "\n",
    "buahbatu_final = pd.concat(buahbatus, ignore_index=True)\n",
    "\n"
   ]
  },
  {
   "cell_type": "markdown",
   "metadata": {},
   "source": []
  },
  {
   "cell_type": "code",
   "execution_count": 74,
   "metadata": {},
   "outputs": [],
   "source": [
    "#KECAMATAN BANDUNG WETAN\n",
    "bwetan1 = pd.read_csv('dataset_bandung/sd/bwetan1.csv').rename(columns={\"Rombel\":\"Rombongan Belajar\",\"R. Kelas\": \"Kelas\", \"R. Lab\": \"Lab\", \"R. Perpus\": \"Perpus\"})\n",
    "bwetan2 = pd.read_csv('dataset_bandung/sd/bwetan2.csv').rename(columns={\"Rombel\":\"Rombongan Belajar\",\"R. Kelas\": \"Kelas\", \"R. Lab\": \"Lab\", \"R. Perpus\": \"Perpus\"})\n",
    "bwetan3 = pd.read_csv('dataset_bandung/sd/bwetan3.csv').rename(columns={\"R. Kelas\": \"Kelas\", \"R. Lab\": \"Lab\", \"R. Perpus\": \"Perpus\"})\n",
    "bwetan4 = pd.read_csv('dataset_bandung/sd/bwetan4.csv').rename(columns={\"R. Kelas\": \"Kelas\", \"R. Lab\": \"Lab\", \"R. Perpus\": \"Perpus\"})\n",
    "\n",
    "#concat data\n",
    "bwetanc1=bwetan1[['Guru','Peserta Didik','Rombongan Belajar','Pegawai','Kelas','Lab','Perpus']]\n",
    "bwetanc2=bwetan2[['Guru','Peserta Didik','Rombongan Belajar','Pegawai','Kelas','Lab','Perpus']]\n",
    "bwetanc3=bwetan3[['Guru','Peserta Didik','Rombongan Belajar','Pegawai','Kelas','Lab','Perpus']]\n",
    "bwetanc4=bwetan4[['Guru','Peserta Didik','Rombongan Belajar','Pegawai','Kelas','Lab','Perpus']]\n",
    "\n",
    "bwetans = [bwetanc1, bwetanc2, bwetanc3, bwetanc4]\n",
    "\n",
    "bwetan_final = pd.concat(buahbatus, ignore_index=True)\n",
    "\n"
   ]
  },
  {
   "cell_type": "markdown",
   "metadata": {},
   "source": []
  },
  {
   "cell_type": "code",
   "execution_count": 75,
   "metadata": {},
   "outputs": [],
   "source": [
    "#KECAMATAN CIBEUNYING KALER\n",
    "cibeunying1 = pd.read_csv('dataset_bandung/sd/cibeunying_kaler1.csv').rename(columns={\"Rombel\":\"Rombongan Belajar\",\"R. Kelas\": \"Kelas\", \"R. Lab\": \"Lab\", \"R. Perpus\": \"Perpus\"})\n",
    "cibeunying2 = pd.read_csv('dataset_bandung/sd/cibeunying_kaler2.csv').rename(columns={\"Rombel\":\"Rombongan Belajar\",\"R. Kelas\": \"Kelas\", \"R. Lab\": \"Lab\", \"R. Perpus\": \"Perpus\"})\n",
    "cibeunying3 = pd.read_csv('dataset_bandung/sd/cibeunying_kaler3.csv').rename(columns={\"R. Kelas\": \"Kelas\", \"R. Lab\": \"Lab\", \"R. Perpus\": \"Perpus\"})\n",
    "cibeunying4 = pd.read_csv('dataset_bandung/sd/cibeunying_kaler4.csv').rename(columns={\"R. Kelas\": \"Kelas\", \"R. Lab\": \"Lab\", \"R. Perpus\": \"Perpus\"})\n",
    "\n",
    "#concat data\n",
    "cibeunyingc1=cibeunying1[['Guru','Peserta Didik','Rombongan Belajar','Pegawai','Kelas','Lab','Perpus']]\n",
    "cibeunyingc2=cibeunying2[['Guru','Peserta Didik','Rombongan Belajar','Pegawai','Kelas','Lab','Perpus']]\n",
    "cibeunyingc3=cibeunying3[['Guru','Peserta Didik','Rombongan Belajar','Pegawai','Kelas','Lab','Perpus']]\n",
    "cibeunyingc4=cibeunying4[['Guru','Peserta Didik','Rombongan Belajar','Pegawai','Kelas','Lab','Perpus']]\n",
    "\n",
    "cibeunyings = [cibeunyingc1, cibeunyingc2, cibeunyingc3, cibeunyingc4]\n",
    "\n",
    "cibeunying_final = pd.concat(buahbatus, ignore_index=True)\n",
    "\n"
   ]
  },
  {
   "cell_type": "markdown",
   "metadata": {},
   "source": []
  },
  {
   "cell_type": "code",
   "execution_count": 76,
   "metadata": {},
   "outputs": [],
   "source": [
    "#KECAMATAN CIPARAY \n",
    "ciparay1 = pd.read_csv('dataset_bandung/sd/ciparay1.csv').rename(columns={\"Rombel\":\"Rombongan Belajar\",\"R. Kelas\": \"Kelas\", \"R. Lab\": \"Lab\", \"R. Perpus\": \"Perpus\"})\n",
    "ciparay2 = pd.read_csv('dataset_bandung/sd/ciparay2.csv').rename(columns={\"Rombel\":\"Rombongan Belajar\",\"R. Kelas\": \"Kelas\", \"R. Lab\": \"Lab\", \"R. Perpus\": \"Perpus\"})\n",
    "ciparay3 = pd.read_csv('dataset_bandung/sd/ciparay3.csv').rename(columns={\"R. Kelas\": \"Kelas\", \"R. Lab\": \"Lab\", \"R. Perpus\": \"Perpus\"})\n",
    "ciparay4 = pd.read_csv('dataset_bandung/sd/ciparay4.csv').rename(columns={\"R. Kelas\": \"Kelas\", \"R. Lab\": \"Lab\", \"R. Perpus\": \"Perpus\"})\n",
    "\n",
    "#concat data\n",
    "ciparayc1=ciparay1[['Guru','Peserta Didik','Rombongan Belajar','Pegawai','Kelas','Lab','Perpus']]\n",
    "ciparayc2=ciparay2[['Guru','Peserta Didik','Rombongan Belajar','Pegawai','Kelas','Lab','Perpus']]\n",
    "ciparayc3=ciparay3[['Guru','Peserta Didik','Rombongan Belajar','Pegawai','Kelas','Lab','Perpus']]\n",
    "ciparayc4=ciparay4[['Guru','Peserta Didik','Rombongan Belajar','Pegawai','Kelas','Lab','Perpus']]\n",
    "\n",
    "ciparays = [ciparayc1, ciparayc2, ciparayc3, ciparayc4]\n",
    "\n",
    "ciparay_final = pd.concat(ciparays, ignore_index=True)\n"
   ]
  },
  {
   "cell_type": "code",
   "execution_count": null,
   "metadata": {},
   "outputs": [],
   "source": []
  },
  {
   "cell_type": "code",
   "execution_count": 44,
   "metadata": {},
   "outputs": [
    {
     "data": {
      "image/png": "[encoded data removed]",
      "text/plain": [
       "<Figure size 432x288 with 2 Axes>"
      ]
     },
     "metadata": {
      "needs_background": "light"
     },
     "output_type": "display_data"
    }
   ],
   "source": [
    "#SEMUA KECAMATAN\n",
    "sd_bandungs = [andir_final, antapani_final, arcamanik_final, astaanyar_final, batununggal_final, bkidul_final, bkulon_final, bojongloa_final, buahbatu_final, bwetan_final, cibeunying_final, ciparay_final]\n",
    "data_sd_bandung=pd.concat(sd_bandungs, ignore_index=True)\n",
    "#data_sd_bandung\n",
    "\n",
    "#mencari korelasi semua sd di kecamatan di bandung\n",
    "\n",
    "corr = data_sd_bandung.corr()\n",
    "fig = plt.figure()\n",
    "ax = fig.add_subplot(111)\n",
    "cax = ax.matshow(corr,cmap='coolwarm', vmin=-1, vmax=1)\n",
    "fig.colorbar(cax)\n",
    "ticks = np.arange(0,len(data_sd_bandung.columns),1)\n",
    "ax.set_xticks(ticks)\n",
    "plt.xticks(rotation=90)\n",
    "ax.set_yticks(ticks)\n",
    "ax.set_xticklabels(data_sd_bandung.columns)\n",
    "ax.set_yticklabels(data_sd_bandung.columns)\n",
    "plt.show()\n",
    "\n",
    "\n"
   ]
  },
  {
   "cell_type": "markdown",
   "metadata": {},
   "source": [
    "pada grafik diatas menunjukkan grafik warna yang memiliki nilai -1 sampai dengan 1 pada gradasi biru sampai dengan merah tua. pada nilai yang mendekati 1 atau merah tua menunjukkan adanya korelasi antara variabel yang ada. \n",
    "\n"
   ]
  },
  {
   "cell_type": "code",
   "execution_count": 90,
   "metadata": {},
   "outputs": [
    {
     "data": {
      "text/plain": [
       "<matplotlib.axes._subplots.AxesSubplot at 0x2b3929516d8>"
      ]
     },
     "execution_count": 90,
     "metadata": {},
     "output_type": "execute_result"
    },
    {
     "data": {
      "image/png": "[encoded data removed]",
      "text/plain": [
       "<Figure size 432x288 with 1 Axes>"
      ]
     },
     "metadata": {
      "needs_background": "light"
     },
     "output_type": "display_data"
    }
   ],
   "source": [
    "#mean_sd_bandung = data_sd_bandung.mean()\n",
    "#median_sd_bandung = data_sd_bandung.median()\n",
    "#std_sd_bandung = data_sd_bandung.std()\n",
    "data_sd_bandung.plot.scatter(x=\"Rombongan Belajar\", y=\"Peserta Didik\")"
   ]
  }
 ],
 "metadata": {
  "kernelspec": {
   "display_name": "Python 3",
   "language": "python",
   "name": "python3"
  },
  "language_info": {
   "codemirror_mode": {
    "name": "ipython",
    "version": 3
   },
   "file_extension": ".py",
   "mimetype": "text/x-python",
   "name": "python",
   "nbconvert_exporter": "python",
   "pygments_lexer": "ipython3",
   "version": "3.7.3"
  }
 },
 "nbformat": 4,
 "nbformat_minor": 2
}
